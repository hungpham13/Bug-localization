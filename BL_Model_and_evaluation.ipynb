{
  "nbformat": 4,
  "nbformat_minor": 0,
  "metadata": {
    "colab": {
      "name": "BL Model and evaluation",
      "provenance": [],
      "collapsed_sections": [],
      "authorship_tag": "ABX9TyOqhVrOJPLgUxlCZE5xfhZJ",
      "include_colab_link": true
    },
    "kernelspec": {
      "name": "python3",
      "display_name": "Python 3"
    },
    "language_info": {
      "name": "python"
    }
  },
  "cells": [
    {
      "cell_type": "markdown",
      "metadata": {
        "id": "view-in-github",
        "colab_type": "text"
      },
      "source": [
        "<a href=\"https://colab.research.google.com/github/hungpham13/Bug-localization/blob/main/BL_Model_and_evaluation.ipynb\" target=\"_parent\"><img src=\"https://colab.research.google.com/assets/colab-badge.svg\" alt=\"Open In Colab\"/></a>"
      ]
    },
    {
      "cell_type": "markdown",
      "source": [
        "## Import data and libraries"
      ],
      "metadata": {
        "id": "NmNjqe4xErw4"
      }
    },
    {
      "cell_type": "code",
      "source": [
        "import pandas as pd\n",
        "from sklearn.model_selection import cross_validate, StratifiedKFold, cross_val_score, train_test_split\n",
        "from sklearn.svm import SVC"
      ],
      "metadata": {
        "id": "HGPgP8EHJWnF"
      },
      "execution_count": 19,
      "outputs": []
    },
    {
      "cell_type": "code",
      "execution_count": 14,
      "metadata": {
        "colab": {
          "base_uri": "https://localhost:8080/"
        },
        "id": "oLCth7Wn8NFy",
        "outputId": "ab7e04cd-b900-4cbf-fea9-23fee0795afe"
      },
      "outputs": [
        {
          "output_type": "stream",
          "name": "stdout",
          "text": [
            "fatal: destination path 'Bug-localization' already exists and is not an empty directory.\n"
          ]
        }
      ],
      "source": [
        "!git clone https://github.com/hungpham13/Bug-localization.git\n",
        "df = pd.read_csv(\"./Bug-localization/without_2.csv\")\n",
        "df['feature_2'] = 0\n",
        "df"
      ]
    },
    {
      "cell_type": "code",
      "source": [
        "features = [f'feature_{i}' for i in range(1,6)]\n",
        "seed = 42\n",
        "test_size = 0.4\n",
        "X_train, X_test, y_train, y_test = train_test_split(df[features], df['label'], \n",
        "                                                    test_size=test_size, \n",
        "                                                    stratify=df['label'], \n",
        "                                                    random_state=seed)\n",
        "num_folds = 10\n",
        "kfold = StratifiedKFold(n_splits=num_folds)\n",
        "scoring = 'top_k_accuracy'"
      ],
      "metadata": {
        "id": "xqRC1cDbNK4D"
      },
      "execution_count": 17,
      "outputs": []
    },
    {
      "cell_type": "markdown",
      "source": [
        "## Implement SVM-Rank"
      ],
      "metadata": {
        "id": "CVWxrOXoEiR8"
      }
    },
    {
      "cell_type": "code",
      "source": [
        "model = SVC(kernel='rbf',C=10,gamma=0.1)\n",
        "cv_results = cross_val_score(model, X_train, y_train, cv=kfold, scoring=scoring, error_score='raise', n_jobs=-1)\n",
        "print(cv_results) "
      ],
      "metadata": {
        "id": "QtRwCvl-EeEo"
      },
      "execution_count": null,
      "outputs": []
    }
  ]
}