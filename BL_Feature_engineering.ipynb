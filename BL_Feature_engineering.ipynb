{
 "cells": [
  {
   "cell_type": "markdown",
   "metadata": {
    "id": "view-in-github",
    "colab_type": "text",
    "pycharm": {
     "name": "#%% md\n"
    }
   },
   "source": [
    "<a href=\"https://colab.research.google.com/github/hungpham13/Bug-localization/blob/main/BL_Feature_engineering.ipynb\" target=\"_parent\"><img src=\"https://colab.research.google.com/assets/colab-badge.svg\" alt=\"Open In Colab\"/></a>"
   ]
  },
  {
   "cell_type": "markdown",
   "metadata": {
    "id": "2YKCl0fLtUWQ",
    "pycharm": {
     "name": "#%% md\n"
    }
   },
   "source": [
    "# Feature engineering\n",
    "\n"
   ]
  },
  {
   "cell_type": "code",
   "execution_count": 1,
   "outputs": [
    {
     "output_type": "stream",
     "name": "stdout",
     "text": [
      "Cloning into 'Bug-localization'...\n",
      "remote: Enumerating objects: 49168, done.\u001B[K\n",
      "remote: Counting objects: 100% (57/57), done.\u001B[K\n",
      "remote: Compressing objects: 100% (39/39), done.\u001B[K\n",
      "remote: Total 49168 (delta 21), reused 53 (delta 17), pack-reused 49111\u001B[K\n",
      "Receiving objects: 100% (49168/49168), 272.00 MiB | 26.70 MiB/s, done.\n",
      "Resolving deltas: 100% (13788/13788), done.\n",
      "Checking out files: 100% (42324/42324), done.\n",
      "/content/Bug-localization\n",
      "Collecting javalang>=0.13.0\n",
      "  Downloading javalang-0.13.0-py3-none-any.whl (22 kB)\n",
      "Requirement already satisfied: matplotlib>=3.2.2 in /usr/local/lib/python3.7/dist-packages (from -r requirements.txt (line 4)) (3.2.2)\n",
      "Requirement already satisfied: numpy>=1.18.5 in /usr/local/lib/python3.7/dist-packages (from -r requirements.txt (line 5)) (1.21.6)\n",
      "Requirement already satisfied: scipy>=1.4.1 in /usr/local/lib/python3.7/dist-packages (from -r requirements.txt (line 6)) (1.4.1)\n",
      "Requirement already satisfied: scikit-learn>=0.19.2 in /usr/local/lib/python3.7/dist-packages (from -r requirements.txt (line 7)) (1.0.2)\n",
      "Requirement already satisfied: tqdm>=4.41.0 in /usr/local/lib/python3.7/dist-packages (from -r requirements.txt (line 10)) (4.64.0)\n",
      "Requirement already satisfied: pandas>=1.1.4 in /usr/local/lib/python3.7/dist-packages (from -r requirements.txt (line 11)) (1.3.5)\n",
      "Requirement already satisfied: seaborn>=0.11.0 in /usr/local/lib/python3.7/dist-packages (from -r requirements.txt (line 12)) (0.11.2)\n",
      "Requirement already satisfied: Pygments>=2.3.1 in /usr/local/lib/python3.7/dist-packages (from -r requirements.txt (line 13)) (2.6.1)\n",
      "Collecting swifter>=1.1.3\n",
      "  Downloading swifter-1.1.3.tar.gz (647 kB)\n",
      "\u001B[K     |████████████████████████████████| 647 kB 5.5 MB/s \n",
      "\u001B[?25hRequirement already satisfied: six in /usr/local/lib/python3.7/dist-packages (from javalang>=0.13.0->-r requirements.txt (line 3)) (1.15.0)\n",
      "Requirement already satisfied: kiwisolver>=1.0.1 in /usr/local/lib/python3.7/dist-packages (from matplotlib>=3.2.2->-r requirements.txt (line 4)) (1.4.2)\n",
      "Requirement already satisfied: pyparsing!=2.0.4,!=2.1.2,!=2.1.6,>=2.0.1 in /usr/local/lib/python3.7/dist-packages (from matplotlib>=3.2.2->-r requirements.txt (line 4)) (3.0.8)\n",
      "Requirement already satisfied: cycler>=0.10 in /usr/local/lib/python3.7/dist-packages (from matplotlib>=3.2.2->-r requirements.txt (line 4)) (0.11.0)\n",
      "Requirement already satisfied: python-dateutil>=2.1 in /usr/local/lib/python3.7/dist-packages (from matplotlib>=3.2.2->-r requirements.txt (line 4)) (2.8.2)\n",
      "Requirement already satisfied: joblib>=0.11 in /usr/local/lib/python3.7/dist-packages (from scikit-learn>=0.19.2->-r requirements.txt (line 7)) (1.1.0)\n",
      "Requirement already satisfied: threadpoolctl>=2.0.0 in /usr/local/lib/python3.7/dist-packages (from scikit-learn>=0.19.2->-r requirements.txt (line 7)) (3.1.0)\n",
      "Requirement already satisfied: pytz>=2017.3 in /usr/local/lib/python3.7/dist-packages (from pandas>=1.1.4->-r requirements.txt (line 11)) (2022.1)\n",
      "Collecting psutil>=5.6.6\n",
      "  Downloading psutil-5.9.0-cp37-cp37m-manylinux_2_12_x86_64.manylinux2010_x86_64.manylinux_2_17_x86_64.manylinux2014_x86_64.whl (280 kB)\n",
      "\u001B[K     |████████████████████████████████| 280 kB 42.7 MB/s \n",
      "\u001B[?25hRequirement already satisfied: dask[dataframe]>=2.10.0 in /usr/local/lib/python3.7/dist-packages (from swifter>=1.1.3->-r requirements.txt (line 14)) (2.12.0)\n",
      "Requirement already satisfied: ipywidgets>=7.0.0 in /usr/local/lib/python3.7/dist-packages (from swifter>=1.1.3->-r requirements.txt (line 14)) (7.7.0)\n",
      "Requirement already satisfied: cloudpickle>=0.2.2 in /usr/local/lib/python3.7/dist-packages (from swifter>=1.1.3->-r requirements.txt (line 14)) (1.3.0)\n",
      "Requirement already satisfied: parso>0.4.0 in /usr/local/lib/python3.7/dist-packages (from swifter>=1.1.3->-r requirements.txt (line 14)) (0.8.3)\n",
      "Requirement already satisfied: bleach>=3.1.1 in /usr/local/lib/python3.7/dist-packages (from swifter>=1.1.3->-r requirements.txt (line 14)) (5.0.0)\n",
      "Requirement already satisfied: webencodings in /usr/local/lib/python3.7/dist-packages (from bleach>=3.1.1->swifter>=1.1.3->-r requirements.txt (line 14)) (0.5.1)\n",
      "Requirement already satisfied: toolz>=0.7.3 in /usr/local/lib/python3.7/dist-packages (from dask[dataframe]>=2.10.0->swifter>=1.1.3->-r requirements.txt (line 14)) (0.11.2)\n",
      "Collecting fsspec>=0.6.0\n",
      "  Downloading fsspec-2022.3.0-py3-none-any.whl (136 kB)\n",
      "\u001B[K     |████████████████████████████████| 136 kB 45.4 MB/s \n",
      "\u001B[?25hCollecting partd>=0.3.10\n",
      "  Downloading partd-1.2.0-py3-none-any.whl (19 kB)\n",
      "Requirement already satisfied: ipython>=4.0.0 in /usr/local/lib/python3.7/dist-packages (from ipywidgets>=7.0.0->swifter>=1.1.3->-r requirements.txt (line 14)) (5.5.0)\n",
      "Requirement already satisfied: ipython-genutils~=0.2.0 in /usr/local/lib/python3.7/dist-packages (from ipywidgets>=7.0.0->swifter>=1.1.3->-r requirements.txt (line 14)) (0.2.0)\n",
      "Requirement already satisfied: nbformat>=4.2.0 in /usr/local/lib/python3.7/dist-packages (from ipywidgets>=7.0.0->swifter>=1.1.3->-r requirements.txt (line 14)) (5.3.0)\n",
      "Requirement already satisfied: traitlets>=4.3.1 in /usr/local/lib/python3.7/dist-packages (from ipywidgets>=7.0.0->swifter>=1.1.3->-r requirements.txt (line 14)) (5.1.1)\n",
      "Requirement already satisfied: widgetsnbextension~=3.6.0 in /usr/local/lib/python3.7/dist-packages (from ipywidgets>=7.0.0->swifter>=1.1.3->-r requirements.txt (line 14)) (3.6.0)\n",
      "Requirement already satisfied: ipykernel>=4.5.1 in /usr/local/lib/python3.7/dist-packages (from ipywidgets>=7.0.0->swifter>=1.1.3->-r requirements.txt (line 14)) (4.10.1)\n",
      "Requirement already satisfied: jupyterlab-widgets>=1.0.0 in /usr/local/lib/python3.7/dist-packages (from ipywidgets>=7.0.0->swifter>=1.1.3->-r requirements.txt (line 14)) (1.1.0)\n",
      "Requirement already satisfied: tornado>=4.0 in /usr/local/lib/python3.7/dist-packages (from ipykernel>=4.5.1->ipywidgets>=7.0.0->swifter>=1.1.3->-r requirements.txt (line 14)) (5.1.1)\n",
      "Requirement already satisfied: jupyter-client in /usr/local/lib/python3.7/dist-packages (from ipykernel>=4.5.1->ipywidgets>=7.0.0->swifter>=1.1.3->-r requirements.txt (line 14)) (5.3.5)\n",
      "Requirement already satisfied: prompt-toolkit<2.0.0,>=1.0.4 in /usr/local/lib/python3.7/dist-packages (from ipython>=4.0.0->ipywidgets>=7.0.0->swifter>=1.1.3->-r requirements.txt (line 14)) (1.0.18)\n",
      "Requirement already satisfied: pickleshare in /usr/local/lib/python3.7/dist-packages (from ipython>=4.0.0->ipywidgets>=7.0.0->swifter>=1.1.3->-r requirements.txt (line 14)) (0.7.5)\n",
      "Requirement already satisfied: decorator in /usr/local/lib/python3.7/dist-packages (from ipython>=4.0.0->ipywidgets>=7.0.0->swifter>=1.1.3->-r requirements.txt (line 14)) (4.4.2)\n",
      "Requirement already satisfied: simplegeneric>0.8 in /usr/local/lib/python3.7/dist-packages (from ipython>=4.0.0->ipywidgets>=7.0.0->swifter>=1.1.3->-r requirements.txt (line 14)) (0.8.1)\n",
      "Requirement already satisfied: setuptools>=18.5 in /usr/local/lib/python3.7/dist-packages (from ipython>=4.0.0->ipywidgets>=7.0.0->swifter>=1.1.3->-r requirements.txt (line 14)) (57.4.0)\n",
      "Requirement already satisfied: pexpect in /usr/local/lib/python3.7/dist-packages (from ipython>=4.0.0->ipywidgets>=7.0.0->swifter>=1.1.3->-r requirements.txt (line 14)) (4.8.0)\n",
      "Requirement already satisfied: typing-extensions in /usr/local/lib/python3.7/dist-packages (from kiwisolver>=1.0.1->matplotlib>=3.2.2->-r requirements.txt (line 4)) (4.2.0)\n",
      "Requirement already satisfied: fastjsonschema in /usr/local/lib/python3.7/dist-packages (from nbformat>=4.2.0->ipywidgets>=7.0.0->swifter>=1.1.3->-r requirements.txt (line 14)) (2.15.3)\n",
      "Requirement already satisfied: jupyter-core in /usr/local/lib/python3.7/dist-packages (from nbformat>=4.2.0->ipywidgets>=7.0.0->swifter>=1.1.3->-r requirements.txt (line 14)) (4.10.0)\n",
      "Requirement already satisfied: jsonschema>=2.6 in /usr/local/lib/python3.7/dist-packages (from nbformat>=4.2.0->ipywidgets>=7.0.0->swifter>=1.1.3->-r requirements.txt (line 14)) (4.3.3)\n",
      "Requirement already satisfied: attrs>=17.4.0 in /usr/local/lib/python3.7/dist-packages (from jsonschema>=2.6->nbformat>=4.2.0->ipywidgets>=7.0.0->swifter>=1.1.3->-r requirements.txt (line 14)) (21.4.0)\n",
      "Requirement already satisfied: importlib-metadata in /usr/local/lib/python3.7/dist-packages (from jsonschema>=2.6->nbformat>=4.2.0->ipywidgets>=7.0.0->swifter>=1.1.3->-r requirements.txt (line 14)) (4.11.3)\n",
      "Requirement already satisfied: pyrsistent!=0.17.0,!=0.17.1,!=0.17.2,>=0.14.0 in /usr/local/lib/python3.7/dist-packages (from jsonschema>=2.6->nbformat>=4.2.0->ipywidgets>=7.0.0->swifter>=1.1.3->-r requirements.txt (line 14)) (0.18.1)\n",
      "Requirement already satisfied: importlib-resources>=1.4.0 in /usr/local/lib/python3.7/dist-packages (from jsonschema>=2.6->nbformat>=4.2.0->ipywidgets>=7.0.0->swifter>=1.1.3->-r requirements.txt (line 14)) (5.7.1)\n",
      "Requirement already satisfied: zipp>=3.1.0 in /usr/local/lib/python3.7/dist-packages (from importlib-resources>=1.4.0->jsonschema>=2.6->nbformat>=4.2.0->ipywidgets>=7.0.0->swifter>=1.1.3->-r requirements.txt (line 14)) (3.8.0)\n",
      "Collecting locket\n",
      "  Downloading locket-1.0.0-py2.py3-none-any.whl (4.4 kB)\n",
      "Requirement already satisfied: wcwidth in /usr/local/lib/python3.7/dist-packages (from prompt-toolkit<2.0.0,>=1.0.4->ipython>=4.0.0->ipywidgets>=7.0.0->swifter>=1.1.3->-r requirements.txt (line 14)) (0.2.5)\n",
      "Requirement already satisfied: notebook>=4.4.1 in /usr/local/lib/python3.7/dist-packages (from widgetsnbextension~=3.6.0->ipywidgets>=7.0.0->swifter>=1.1.3->-r requirements.txt (line 14)) (5.3.1)\n",
      "Requirement already satisfied: Send2Trash in /usr/local/lib/python3.7/dist-packages (from notebook>=4.4.1->widgetsnbextension~=3.6.0->ipywidgets>=7.0.0->swifter>=1.1.3->-r requirements.txt (line 14)) (1.8.0)\n",
      "Requirement already satisfied: terminado>=0.8.1 in /usr/local/lib/python3.7/dist-packages (from notebook>=4.4.1->widgetsnbextension~=3.6.0->ipywidgets>=7.0.0->swifter>=1.1.3->-r requirements.txt (line 14)) (0.13.3)\n",
      "Requirement already satisfied: jinja2 in /usr/local/lib/python3.7/dist-packages (from notebook>=4.4.1->widgetsnbextension~=3.6.0->ipywidgets>=7.0.0->swifter>=1.1.3->-r requirements.txt (line 14)) (2.11.3)\n",
      "Requirement already satisfied: nbconvert in /usr/local/lib/python3.7/dist-packages (from notebook>=4.4.1->widgetsnbextension~=3.6.0->ipywidgets>=7.0.0->swifter>=1.1.3->-r requirements.txt (line 14)) (5.6.1)\n",
      "Requirement already satisfied: pyzmq>=13 in /usr/local/lib/python3.7/dist-packages (from jupyter-client->ipykernel>=4.5.1->ipywidgets>=7.0.0->swifter>=1.1.3->-r requirements.txt (line 14)) (22.3.0)\n",
      "Requirement already satisfied: ptyprocess in /usr/local/lib/python3.7/dist-packages (from terminado>=0.8.1->notebook>=4.4.1->widgetsnbextension~=3.6.0->ipywidgets>=7.0.0->swifter>=1.1.3->-r requirements.txt (line 14)) (0.7.0)\n",
      "Requirement already satisfied: MarkupSafe>=0.23 in /usr/local/lib/python3.7/dist-packages (from jinja2->notebook>=4.4.1->widgetsnbextension~=3.6.0->ipywidgets>=7.0.0->swifter>=1.1.3->-r requirements.txt (line 14)) (2.0.1)\n",
      "Requirement already satisfied: entrypoints>=0.2.2 in /usr/local/lib/python3.7/dist-packages (from nbconvert->notebook>=4.4.1->widgetsnbextension~=3.6.0->ipywidgets>=7.0.0->swifter>=1.1.3->-r requirements.txt (line 14)) (0.4)\n",
      "Requirement already satisfied: defusedxml in /usr/local/lib/python3.7/dist-packages (from nbconvert->notebook>=4.4.1->widgetsnbextension~=3.6.0->ipywidgets>=7.0.0->swifter>=1.1.3->-r requirements.txt (line 14)) (0.7.1)\n",
      "Requirement already satisfied: testpath in /usr/local/lib/python3.7/dist-packages (from nbconvert->notebook>=4.4.1->widgetsnbextension~=3.6.0->ipywidgets>=7.0.0->swifter>=1.1.3->-r requirements.txt (line 14)) (0.6.0)\n",
      "Requirement already satisfied: pandocfilters>=1.4.1 in /usr/local/lib/python3.7/dist-packages (from nbconvert->notebook>=4.4.1->widgetsnbextension~=3.6.0->ipywidgets>=7.0.0->swifter>=1.1.3->-r requirements.txt (line 14)) (1.5.0)\n",
      "Requirement already satisfied: mistune<2,>=0.8.1 in /usr/local/lib/python3.7/dist-packages (from nbconvert->notebook>=4.4.1->widgetsnbextension~=3.6.0->ipywidgets>=7.0.0->swifter>=1.1.3->-r requirements.txt (line 14)) (0.8.4)\n",
      "Building wheels for collected packages: swifter\n",
      "  Building wheel for swifter (setup.py) ... \u001B[?25l\u001B[?25hdone\n",
      "  Created wheel for swifter: filename=swifter-1.1.3-py3-none-any.whl size=13078 sha256=2a5fd0f1db601134b9a30a02e4229b98555aa5678e574ac15ac323b6c32ab570\n",
      "  Stored in directory: /root/.cache/pip/wheels/e8/1a/1b/46aa7b0fac16d3ce1bccaac14bfe4fad972642217ae78d8160\n",
      "Successfully built swifter\n",
      "Installing collected packages: locket, partd, fsspec, psutil, swifter, javalang\n",
      "  Attempting uninstall: psutil\n",
      "    Found existing installation: psutil 5.4.8\n",
      "    Uninstalling psutil-5.4.8:\n",
      "      Successfully uninstalled psutil-5.4.8\n",
      "Successfully installed fsspec-2022.3.0 javalang-0.13.0 locket-1.0.0 partd-1.2.0 psutil-5.9.0 swifter-1.1.3\n"
     ]
    },
    {
     "output_type": "display_data",
     "data": {
      "application/vnd.colab-display-data+json": {
       "pip_warning": {
        "packages": [
         "psutil"
        ]
       }
      }
     },
     "metadata": {}
    }
   ],
   "source": [
    "!git clone https://github.com/hungpham13/Bug-localization.git\n",
    "%cd Bug-localization\n",
    "!pip install -r requirements.txt"
   ],
   "metadata": {
    "pycharm": {
     "name": "#%%\n"
    },
    "id": "43_Dz0c4Wlgi",
    "outputId": "64831a93-b8b4-4507-e0df-86283b69fd74",
    "colab": {
     "base_uri": "https://localhost:8080/",
     "height": 1000
    }
   }
  },
  {
   "cell_type": "markdown",
   "source": [
    "## Bug report cleaning\n",
    "Bug report preprocessing"
   ],
   "metadata": {
    "collapsed": false,
    "pycharm": {
     "name": "#%% md\n"
    }
   }
  },
  {
   "cell_type": "code",
   "execution_count": 1,
   "outputs": [
    {
     "data": {
      "text/plain": "                                             summary  \\\n0  Missing help content reference in MongoDB ODA ...   \n1  Documentation of possible values/objects of pr...   \n2  Nested DataEngineSessions and wrong initializa...   \n3                      JBoss + Sybase database issue   \n4  ArrayIndexOutOfBoundsException when parsing pa...   \n\n                                         description         report_time  \\\n0  The help context ID is not referenced by the M... 2013-11-20 20:05:32   \n1                                                    2012-09-11 05:16:02   \n2  I have following use case: - Data Cube with me... 2013-03-14 05:52:07   \n3  Build Identifier: 3.7.100.v20110510-0712 Hi, J... 2012-03-26 05:12:15   \n4  There is a bug in org.eclipse.birt.report.engi... 2013-09-11 04:59:50   \n\n                                             content  \\\n0  Missing help content reference in MongoDB ODA ...   \n1  Documentation of possible values/objects of pr...   \n2  Nested DataEngineSessions and wrong initializa...   \n3  JBoss + Sybase database issue. Build Identifie...   \n4  ArrayIndexOutOfBoundsException when parsing pa...   \n\n                                         fixed_files  \n0  [data/org.eclipse.birt.data.oda.mongodb.ui/src...  \n1  [chart/org.eclipse.birt.chart.engine/src/org/e...  \n2  [data/org.eclipse.birt.data/src/org/eclipse/bi...  \n3  [data/org.eclipse.birt.report.data.oda.jdbc/sr...  \n4  [engine/org.eclipse.birt.report.engine/src/org...  ",
      "text/html": "<div>\n<style scoped>\n    .dataframe tbody tr th:only-of-type {\n        vertical-align: middle;\n    }\n\n    .dataframe tbody tr th {\n        vertical-align: top;\n    }\n\n    .dataframe thead th {\n        text-align: right;\n    }\n</style>\n<table border=\"1\" class=\"dataframe\">\n  <thead>\n    <tr style=\"text-align: right;\">\n      <th></th>\n      <th>summary</th>\n      <th>description</th>\n      <th>report_time</th>\n      <th>content</th>\n      <th>fixed_files</th>\n    </tr>\n  </thead>\n  <tbody>\n    <tr>\n      <th>0</th>\n      <td>Missing help content reference in MongoDB ODA ...</td>\n      <td>The help context ID is not referenced by the M...</td>\n      <td>2013-11-20 20:05:32</td>\n      <td>Missing help content reference in MongoDB ODA ...</td>\n      <td>[data/org.eclipse.birt.data.oda.mongodb.ui/src...</td>\n    </tr>\n    <tr>\n      <th>1</th>\n      <td>Documentation of possible values/objects of pr...</td>\n      <td></td>\n      <td>2012-09-11 05:16:02</td>\n      <td>Documentation of possible values/objects of pr...</td>\n      <td>[chart/org.eclipse.birt.chart.engine/src/org/e...</td>\n    </tr>\n    <tr>\n      <th>2</th>\n      <td>Nested DataEngineSessions and wrong initializa...</td>\n      <td>I have following use case: - Data Cube with me...</td>\n      <td>2013-03-14 05:52:07</td>\n      <td>Nested DataEngineSessions and wrong initializa...</td>\n      <td>[data/org.eclipse.birt.data/src/org/eclipse/bi...</td>\n    </tr>\n    <tr>\n      <th>3</th>\n      <td>JBoss + Sybase database issue</td>\n      <td>Build Identifier: 3.7.100.v20110510-0712 Hi, J...</td>\n      <td>2012-03-26 05:12:15</td>\n      <td>JBoss + Sybase database issue. Build Identifie...</td>\n      <td>[data/org.eclipse.birt.report.data.oda.jdbc/sr...</td>\n    </tr>\n    <tr>\n      <th>4</th>\n      <td>ArrayIndexOutOfBoundsException when parsing pa...</td>\n      <td>There is a bug in org.eclipse.birt.report.engi...</td>\n      <td>2013-09-11 04:59:50</td>\n      <td>ArrayIndexOutOfBoundsException when parsing pa...</td>\n      <td>[engine/org.eclipse.birt.report.engine/src/org...</td>\n    </tr>\n  </tbody>\n</table>\n</div>"
     },
     "execution_count": 1,
     "metadata": {},
     "output_type": "execute_result"
    }
   ],
   "source": [
    "from preprocessing.preprocessing import BugReportsPreprocess\n",
    "s = BugReportsPreprocess(\"data/bug reports/Birt.txt\")\n",
    "s.transform()\n",
    "s.data.head()"
   ],
   "metadata": {
    "collapsed": false,
    "pycharm": {
     "name": "#%%\n"
    }
   }
  },
  {
   "cell_type": "markdown",
   "source": [
    "## Source code cleaning\n",
    "Source code preprocessing\n",
    "Abandon Number?\n",
    "like `name.substring( index + 1 );`\n",
    "\n",
    "or\n",
    "\n",
    "`NumberDataSetImpl.create( new double[]{143.26, 47.56, 35.8, 0, 95.25, 0, 123.45} );`\n"
   ],
   "metadata": {
    "collapsed": false,
    "pycharm": {
     "name": "#%% md\n"
    }
   }
  },
  {
   "cell_type": "code",
   "execution_count": 2,
   "outputs": [
    {
     "data": {
      "text/plain": "Pandas Apply:   0%|          | 0/9697 [00:00<?, ?it/s]",
      "application/vnd.jupyter.widget-view+json": {
       "version_major": 2,
       "version_minor": 0,
       "model_id": "62fad96393c54e6e988e890c5ce9cf15"
      }
     },
     "metadata": {},
     "output_type": "display_data"
    },
    {
     "data": {
      "text/plain": "Pandas Apply:   0%|          | 0/9697 [00:00<?, ?it/s]",
      "application/vnd.jupyter.widget-view+json": {
       "version_major": 2,
       "version_minor": 0,
       "model_id": "2e70532c62e94640a593854517324f0f"
      }
     },
     "metadata": {},
     "output_type": "display_data"
    },
    {
     "data": {
      "text/plain": "                                         all_content  \\\n0  /*********************************************...   \n1  /*********************************************...   \n2  /*********************************************...   \n3  /*********************************************...   \n4  /*********************************************...   \n\n                                            comments  \\\n0  /**\\n * Messages\\n *//**\\n\\t * \\n\\t * @return ...   \n1                        /**\\n * ReportDebugger\\n */   \n2  /**\\n * IReportLaunchConstants\\n *//**\\n\\t * R...   \n3  /**\\n * LauncherEngineConfig\\n *//**\\n\\t * con...   \n4  /**\\n * Run this class when debug the script.\\...   \n\n                    class_names  \\\n0                    [Messages]   \n1              [ReportDebugger]   \n2      [IReportLaunchConstants]   \n3        [LauncherEngineConfig]   \n4  [ReportLauncher, TaskConfig]   \n\n                                          attributes  \\\n0                     [BUNDLE_NAME, RESOURCE_BUNDLE]   \n1                                                 []   \n2  [ID_REPORT_LAUNCHER, ATTR_REPORT_FILE_NAME, AT...   \n3                                       [IMAGE_PATH]   \n4  [NULLVALUE, logger, RPTDOC_SUFFIX, RPTDOC_SUFF...   \n\n                                        method_names  \\\n0  [Messages, getResourceBundle, getResourceBundl...   \n1                                      [start, stop]   \n2                                                 []   \n3                     [LauncherEngineConfig, getURL]   \n4  [setTaskConfig, setEngineType, getEngine, Repo...   \n\n                                           variables  \\\n0                                                 []   \n1                                    [appArgs, args]   \n2                                                 []   \n3                                    [emitterConfig]   \n4  [str, str, str, runnable, list, propertys, ito...   \n\n                                       relative_path  \\\n0  data/source files/birt-20140211-1400/UI/org.ec...   \n1  data/source files/birt-20140211-1400/UI/org.ec...   \n2  data/source files/birt-20140211-1400/UI/org.ec...   \n3  data/source files/birt-20140211-1400/UI/org.ec...   \n4  data/source files/birt-20140211-1400/UI/org.ec...   \n\n                                        package_name  \\\n0            org.eclipse.birt.report.debug.core.i18n   \n1        org.eclipse.birt.report.debug.internal.core   \n2  org.eclipse.birt.report.debug.internal.core.la...   \n3  org.eclipse.birt.report.debug.internal.core.la...   \n4  org.eclipse.birt.report.debug.internal.core.la...   \n\n                                      stemed_content  \\\n0                               birt bundl bundle...   \n1                      app apparg applic applicat...   \n2                  l and attr attr classpath attr...   \n3                          action action drillthr...   \n4                                      absent add...   \n\n                                     cleaned_content  \n0                               birt bundle bundl...  \n1                      app appargs application ap...  \n2                  l and attr attr classpath attr...  \n3                          action action drillthr...  \n4                                      absent add...  ",
      "text/html": "<div>\n<style scoped>\n    .dataframe tbody tr th:only-of-type {\n        vertical-align: middle;\n    }\n\n    .dataframe tbody tr th {\n        vertical-align: top;\n    }\n\n    .dataframe thead th {\n        text-align: right;\n    }\n</style>\n<table border=\"1\" class=\"dataframe\">\n  <thead>\n    <tr style=\"text-align: right;\">\n      <th></th>\n      <th>all_content</th>\n      <th>comments</th>\n      <th>class_names</th>\n      <th>attributes</th>\n      <th>method_names</th>\n      <th>variables</th>\n      <th>relative_path</th>\n      <th>package_name</th>\n      <th>stemed_content</th>\n      <th>cleaned_content</th>\n    </tr>\n  </thead>\n  <tbody>\n    <tr>\n      <th>0</th>\n      <td>/*********************************************...</td>\n      <td>/**\\n * Messages\\n *//**\\n\\t * \\n\\t * @return ...</td>\n      <td>[Messages]</td>\n      <td>[BUNDLE_NAME, RESOURCE_BUNDLE]</td>\n      <td>[Messages, getResourceBundle, getResourceBundl...</td>\n      <td>[]</td>\n      <td>data/source files/birt-20140211-1400/UI/org.ec...</td>\n      <td>org.eclipse.birt.report.debug.core.i18n</td>\n      <td>birt bundl bundle...</td>\n      <td>birt bundle bundl...</td>\n    </tr>\n    <tr>\n      <th>1</th>\n      <td>/*********************************************...</td>\n      <td>/**\\n * ReportDebugger\\n */</td>\n      <td>[ReportDebugger]</td>\n      <td>[]</td>\n      <td>[start, stop]</td>\n      <td>[appArgs, args]</td>\n      <td>data/source files/birt-20140211-1400/UI/org.ec...</td>\n      <td>org.eclipse.birt.report.debug.internal.core</td>\n      <td>app apparg applic applicat...</td>\n      <td>app appargs application ap...</td>\n    </tr>\n    <tr>\n      <th>2</th>\n      <td>/*********************************************...</td>\n      <td>/**\\n * IReportLaunchConstants\\n *//**\\n\\t * R...</td>\n      <td>[IReportLaunchConstants]</td>\n      <td>[ID_REPORT_LAUNCHER, ATTR_REPORT_FILE_NAME, AT...</td>\n      <td>[]</td>\n      <td>[]</td>\n      <td>data/source files/birt-20140211-1400/UI/org.ec...</td>\n      <td>org.eclipse.birt.report.debug.internal.core.la...</td>\n      <td>l and attr attr classpath attr...</td>\n      <td>l and attr attr classpath attr...</td>\n    </tr>\n    <tr>\n      <th>3</th>\n      <td>/*********************************************...</td>\n      <td>/**\\n * LauncherEngineConfig\\n *//**\\n\\t * con...</td>\n      <td>[LauncherEngineConfig]</td>\n      <td>[IMAGE_PATH]</td>\n      <td>[LauncherEngineConfig, getURL]</td>\n      <td>[emitterConfig]</td>\n      <td>data/source files/birt-20140211-1400/UI/org.ec...</td>\n      <td>org.eclipse.birt.report.debug.internal.core.la...</td>\n      <td>action action drillthr...</td>\n      <td>action action drillthr...</td>\n    </tr>\n    <tr>\n      <th>4</th>\n      <td>/*********************************************...</td>\n      <td>/**\\n * Run this class when debug the script.\\...</td>\n      <td>[ReportLauncher, TaskConfig]</td>\n      <td>[NULLVALUE, logger, RPTDOC_SUFFIX, RPTDOC_SUFF...</td>\n      <td>[setTaskConfig, setEngineType, getEngine, Repo...</td>\n      <td>[str, str, str, runnable, list, propertys, ito...</td>\n      <td>data/source files/birt-20140211-1400/UI/org.ec...</td>\n      <td>org.eclipse.birt.report.debug.internal.core.la...</td>\n      <td>absent add...</td>\n      <td>absent add...</td>\n    </tr>\n  </tbody>\n</table>\n</div>"
     },
     "execution_count": 2,
     "metadata": {},
     "output_type": "execute_result"
    }
   ],
   "source": [
    "from preprocessing.preprocessing import SourceFilesPreprocess\n",
    "s = SourceFilesPreprocess(\"data/source files/birt-20140211-1400\")\n",
    "s.transform()\n",
    "s.data.head()"
   ],
   "metadata": {
    "collapsed": false,
    "pycharm": {
     "name": "#%%\n"
    }
   }
  },
  {
   "cell_type": "code",
   "execution_count": 3,
   "outputs": [
    {
     "name": "stdout",
     "output_type": "stream",
     "text": [
      "/*******************************************************************************\n",
      " * Copyright (c) 2008 Actuate Corporation.\n",
      " * All rights reserved. This program and the accompanying materials\n",
      " * are made available under the terms of the Eclipse Public License v1.0\n",
      " * which accompanies this distribution, and is available at\n",
      " * http://www.eclipse.org/legal/epl-v10.html\n",
      " *\n",
      " * Contributors:\n",
      " *  Actuate Corporation  - initial API and implementation\n",
      " *******************************************************************************/\n",
      "\n",
      "package org.eclipse.birt.report.debug.core.i18n;\n",
      "\n",
      "import java.text.MessageFormat;\n",
      "import java.util.ResourceBundle;\n",
      "\n",
      "import com.ibm.icu.util.ULocale;\n",
      "import com.ibm.icu.util.UResourceBundle;\n",
      "\n",
      "/**\n",
      " * Messages\n",
      " */\n",
      "public class Messages\n",
      "{\n",
      "\n",
      "\tprivate static final String BUNDLE_NAME = \"org.eclipse.birt.report.debug.core.i18n.nls\";//$NON-NLS-1$\n",
      "\n",
      "\tprivate static final ResourceBundle RESOURCE_BUNDLE = UResourceBundle.getBundleInstance( BUNDLE_NAME,\n",
      "\t\t\tULocale.getDefault( ).getName( ),\n",
      "\t\t\tMessages.class.getClassLoader( ) );\n",
      "\n",
      "\tprivate Messages( )\n",
      "\t{\n",
      "\t}\n",
      "\n",
      "\t/**\n",
      "\t * \n",
      "\t * @return the default resource bundle of this plugin\n",
      "\t */\n",
      "\tpublic static ResourceBundle getResourceBundle( )\n",
      "\t{\n",
      "\t\treturn RESOURCE_BUNDLE;\n",
      "\t}\n",
      "\n",
      "\t/**\n",
      "\t * \n",
      "\t * @param locale\n",
      "\t * @return resource bundle with the given locale\n",
      "\t */\n",
      "\tpublic static ResourceBundle getResourceBundle( ULocale locale )\n",
      "\t{\n",
      "\t\tif ( ULocale.getDefault( ).equals( locale ) || locale == null )\n",
      "\t\t{\n",
      "\t\t\treturn RESOURCE_BUNDLE;\n",
      "\t\t}\n",
      "\t\treturn UResourceBundle.getBundleInstance( BUNDLE_NAME,\n",
      "\t\t\t\tlocale.getName( ),\n",
      "\t\t\t\tMessages.class.getClassLoader( ) );\n",
      "\t}\n",
      "\n",
      "\t/**\n",
      "\t * \n",
      "\t * @param key\n",
      "\t * @return the externalized message if found, otherwise null\n",
      "\t */\n",
      "\tpublic static String getString( String key )\n",
      "\t{\n",
      "\t\ttry\n",
      "\t\t{\n",
      "\t\t\treturn RESOURCE_BUNDLE.getString( key );\n",
      "\t\t}\n",
      "\t\tcatch ( Exception e )\n",
      "\t\t{\n",
      "\t\t\treturn '!' + key + '!';\n",
      "\t\t}\n",
      "\t}\n",
      "\n",
      "\t/**\n",
      "\t * \n",
      "\t * @param key\n",
      "\t * @param locale\n",
      "\t * @return the externalized message if found, otherwise null\n",
      "\t */\n",
      "\tpublic static String getString( String key, ULocale locale )\n",
      "\t{\n",
      "\t\ttry\n",
      "\t\t{\n",
      "\t\t\treturn getResourceBundle( locale ).getString( key );\n",
      "\t\t}\n",
      "\t\tcatch ( Exception e )\n",
      "\t\t{\n",
      "\t\t\treturn '!' + key + '!';\n",
      "\t\t}\n",
      "\t}\n",
      "\n",
      "\t/**\n",
      "\t * \n",
      "\t * @param key\n",
      "\t * @param oas\n",
      "\t * @return the externalized message if found, otherwise null\n",
      "\t */\n",
      "\tpublic static String getString( String key, Object[] oas )\n",
      "\t{\n",
      "\t\ttry\n",
      "\t\t{\n",
      "\t\t\treturn MessageFormat.format( RESOURCE_BUNDLE.getString( key ), oas );\n",
      "\t\t}\n",
      "\t\tcatch ( Exception e )\n",
      "\t\t{\n",
      "\t\t\treturn '!' + key + '!';\n",
      "\t\t}\n",
      "\t}\n",
      "\n",
      "\t/**\n",
      "\t * \n",
      "\t * @param key\n",
      "\t * @param oa\n",
      "\t * @return the externalized message if found, otherwise null\n",
      "\t */\n",
      "\tpublic static String getString( String key, Object oa )\n",
      "\t{\n",
      "\t\ttry\n",
      "\t\t{\n",
      "\t\t\treturn MessageFormat.format( RESOURCE_BUNDLE.getString( key ),\n",
      "\t\t\t\t\tnew Object[]{\n",
      "\t\t\t\t\t\toa\n",
      "\t\t\t\t\t} );\n",
      "\t\t}\n",
      "\t\tcatch ( Exception e )\n",
      "\t\t{\n",
      "\t\t\treturn '!' + key + '!';\n",
      "\t\t}\n",
      "\t}\n",
      "}\n",
      "\n",
      "========================================Cleaned==========================================\n",
      "                             birt bundle bundle name  com core bug  eclipse equals exception  format get getbundleinstance getclassloader get getname getresourcebundle getstring i18n ibm icu  instance java key loader locale message messageformat messages name  nls null oa oas object org  report resource resource bundle resourcebundle  string text  ulocale uresource uresourcebundle util         \n",
      "========================================Stemed==========================================\n",
      "                             birt bundl bundle nam  com core bug  eclips equal except  format get getbundleinst getclassload get getnam getresourcebundl getstr i18n ibm icu  instanc java key loader local messag messageformat name  nl null oa object org packag privat  report resourc resource bundl resourcebundl  string text tri ulocal uresourc uresourcebundl util         \n",
      "========================================Comments==========================================\n",
      "/**\n",
      " * Messages\n",
      " *//**\n",
      "\t * \n",
      "\t * @return the default resource bundle of this plugin\n",
      "\t *//**\n",
      "\t * \n",
      "\t * @param locale\n",
      "\t * @return resource bundle with the given locale\n",
      "\t *//**\n",
      "\t * \n",
      "\t * @param key\n",
      "\t * @return the externalized message if found, otherwise null\n",
      "\t *//**\n",
      "\t * \n",
      "\t * @param key\n",
      "\t * @param locale\n",
      "\t * @return the externalized message if found, otherwise null\n",
      "\t *//**\n",
      "\t * \n",
      "\t * @param key\n",
      "\t * @param oas\n",
      "\t * @return the externalized message if found, otherwise null\n",
      "\t *//**\n",
      "\t * \n",
      "\t * @param key\n",
      "\t * @param oa\n",
      "\t * @return the externalized message if found, otherwise null\n",
      "\t */\n"
     ]
    }
   ],
   "source": [
    "s = SourceFilesPreprocess(\"data/source files/birt-20140211-1400\")\n",
    "i = 0\n",
    "print(s.data.iloc[i].all_content)\n",
    "print(\"========================================Cleaned==========================================\")\n",
    "print(s.data.iloc[i].cleaned_content)\n",
    "print(\"========================================Stemed==========================================\")\n",
    "print(s.data.iloc[i].stemed_content)\n",
    "print(\"========================================Comments==========================================\")\n",
    "print(s.data.iloc[i].comments)"
   ],
   "metadata": {
    "collapsed": false,
    "pycharm": {
     "name": "#%%\n"
    }
   }
  },
  {
   "cell_type": "code",
   "execution_count": null,
   "outputs": [],
   "source": [
    "import os\n",
    "!pip install javalang\n",
    "import javalang\n",
    "import pathlib as pl\n",
    "import pandas as pd\n",
    "import re\n",
    "from sklearn.feature_extraction.text import CountVectorizer\n",
    "import numpy as np\n",
    "from sklearn.feature_extraction.text import TfidfVectorizer\n",
    "from tqdm import tqdm\n",
    "import traceback"
   ],
   "metadata": {
    "collapsed": false,
    "pycharm": {
     "name": "#%%\n"
    }
   }
  },
  {
   "cell_type": "code",
   "execution_count": 7,
   "outputs": [
    {
     "name": "stdout",
     "output_type": "stream",
     "text": [
      "['camel', 'Case']\n",
      "['Pascal', 'Case']\n",
      "['snake', '_', 'case']\n",
      "['annke12']\n",
      "['asdf', '@']\n"
     ]
    }
   ],
   "source": [
    "import re\n",
    "s = ['camelCase','PascalCase','snake_case','annke12','asdf@']\n",
    "for t in s:\n",
    "    print(re.sub( r\"([A-Z\\d]*[a-z\\d]*)\", r\" \\1\", t).split())\n"
   ],
   "metadata": {
    "collapsed": false,
    "pycharm": {
     "name": "#%%\n"
    }
   }
  },
  {
   "cell_type": "markdown",
   "metadata": {
    "id": "or2-z9P6WaqB",
    "pycharm": {
     "name": "#%% md\n"
    }
   },
   "source": [
    "## Feature 1: TF-IDF"
   ]
  },
  {
   "cell_type": "code",
   "execution_count": null,
   "metadata": {
    "id": "BC09SvkeWaNM",
    "pycharm": {
     "name": "#%%\n"
    }
   },
   "outputs": [],
   "source": [
    "def tf_idf(vocab, docs):\n",
    "    \"\"\"matrix of weight of each terms in vocab to each document\"\"\"\n",
    "    tidf = TfidfVectorizer(vocabulary = vocab)\n",
    "    X = tidf.fit_transform(docs)\n",
    "    del tidf\n",
    "    return X.toarray()"
   ]
  },
  {
   "cell_type": "code",
   "execution_count": null,
   "metadata": {
    "id": "fabZxvcZPkfc",
    "pycharm": {
     "name": "#%%\n"
    }
   },
   "outputs": [],
   "source": [
    "vocab = vocab_construct()\n",
    "# no_number_vocab = np.unique(clean_source('  '.join(vocab)).split())"
   ]
  },
  {
   "cell_type": "markdown",
   "metadata": {
    "id": "9T0YtCwxwz9s",
    "pycharm": {
     "name": "#%% md\n"
    }
   },
   "source": [
    "### Porter stemmer\n",
    "Finally, all words are reduced to\n",
    "their stem using the Porter stemmer, as implemented in the\n",
    "NLTK1 package. This process will reduce derivationally related words such as “programming” and “programs” to the\n",
    "same stem “program”, which is known to have a positive\n",
    "impact on the recall performance of the final system"
   ]
  },
  {
   "cell_type": "code",
   "execution_count": null,
   "metadata": {
    "id": "FSwhdAv2w1YU",
    "pycharm": {
     "name": "#%%\n"
    }
   },
   "outputs": [],
   "source": [
    "from nltk.stem.porter import *\n",
    "stemmer = PorterStemmer()\n",
    "# plurals = ['caresses', 'flies', 'dies', 'mules', 'denied', \n",
    "#            'died', 'agreed', 'owned', 'humbled', 'sized', \n",
    "#            'meeting', 'stating', 'siezing', 'itemization', \n",
    "#            'sensational', 'traditional', 'reference', 'colonizer', 'plotted']\n",
    "single_vocab = [stemmer.stem(plural) for plural in vocab]\n",
    "single_vocab = np.unique(single_vocab)"
   ]
  },
  {
   "cell_type": "code",
   "execution_count": null,
   "metadata": {
    "id": "9y2riR3M7hj6",
    "pycharm": {
     "name": "#%%\n"
    }
   },
   "outputs": [],
   "source": [
    "print(len(vocab))\n",
    "print(len(single_vocab))"
   ]
  },
  {
   "cell_type": "code",
   "execution_count": null,
   "metadata": {
    "id": "ffPx0C_em3sV",
    "pycharm": {
     "name": "#%%\n"
    }
   },
   "outputs": [],
   "source": [
    "print_long_list(single_vocab, limit = (0,20000))"
   ]
  },
  {
   "cell_type": "markdown",
   "metadata": {
    "id": "VVfFU5Adk0GS",
    "pycharm": {
     "name": "#%% md\n"
    }
   },
   "source": [
    "$V$: vocab\n",
    "\n",
    "$r_i = [w_{t,r_i}|t ∈ V ]$\n",
    "\n",
    "$s_i = [w_{t,s_i}|t ∈ V ]$\n",
    "\n",
    "all_wr = [**r1**, **r2**, **r3**,...]\n",
    "\n",
    "all_ws = [**s1**, **s2**, **s3**,...]"
   ]
  },
  {
   "cell_type": "code",
   "execution_count": null,
   "metadata": {
    "id": "mZ7MLoYxkpw5",
    "pycharm": {
     "name": "#%%\n"
    }
   },
   "outputs": [],
   "source": [
    "from sklearn.metrics.pairwise import linear_kernel\n",
    "all_ws = tf_idf(single_vocab, [get_content(f) for f in all_src_path])\n",
    "all_wr = tf_idf(single_vocab, get_content_bug_rp(bug_rp_df))\n",
    "feature_1 = linear_kernel(all_wr, all_ws, dense_output=False)\n",
    "del all_ws\n",
    "del all_wr"
   ]
  },
  {
   "cell_type": "markdown",
   "metadata": {
    "id": "ZxfkG6wg7Ty8",
    "pycharm": {
     "name": "#%% md\n"
    }
   },
   "source": [
    "## Feature 2, 3, 4, 5\n",
    "\n"
   ]
  },
  {
   "cell_type": "markdown",
   "metadata": {
    "id": "G4P2NHMLElaW",
    "pycharm": {
     "name": "#%% md\n"
    }
   },
   "source": [
    "### Feature 2: Collaborative filtering\n",
    "Given a bug report r and a source code file s, let\n",
    "$br(r, s)$ be the set of bug reports for which file s was fixed before r was reported.\n",
    "\n",
    "The feature computes the textual similarity between the text\n",
    "of the current bug report r and the summaries of all the bug\n",
    "reports in $br(r, s)$.\n",
    "$$ϕ_2(r, s) = sim(r, br(r, s))$$"
   ]
  },
  {
   "cell_type": "code",
   "source": [
    "#compute feature 2 for all s,r\n"
   ],
   "metadata": {
    "id": "Ag63NIPR1Hwd",
    "pycharm": {
     "name": "#%%\n"
    }
   },
   "execution_count": null,
   "outputs": []
  },
  {
   "cell_type": "code",
   "execution_count": null,
   "metadata": {
    "id": "Czzqiv9grwnV",
    "pycharm": {
     "name": "#%%\n"
    }
   },
   "outputs": [],
   "source": [
    "def compute_feature_2(bug_index, src_index, bug_content, bbr_df,\n",
    "                      all_src_path = all_src_path):\n",
    "    br_content = \" \".join(get_content_bug_rp(bbr_df))\n",
    "    if not br_content.strip():\n",
    "        return 0\n",
    "    wbr = tf_idf(single_vocab, [br_content,bug_content[bug_index]])\n",
    "    # wr = tf_idf(single_vocab, [bug_content[bug_index]])\n",
    "    return float(linear_kernel(wbr[0].reshape(1,-1), wbr[1].reshape(1,-1)).squeeze())"
   ]
  },
  {
   "cell_type": "code",
   "execution_count": null,
   "metadata": {
    "id": "lmwC99tgkmMg",
    "pycharm": {
     "name": "#%%\n"
    }
   },
   "outputs": [],
   "source": [
    "# # test feature 2\n",
    "# a = np.array([[1,2,3],[3,5,7]])\n",
    "# # print(a*b.T)\n",
    "# float(linear_kernel(a[0].reshape(1,-1),a[1].reshape(1,-1)).squeeze())\n",
    "\n",
    "x = 12\n",
    "y = 2532\n",
    "bbr = get_before_bug_df(x,y)\n",
    "bug_content = get_content_bug_rp(bug_df)\n",
    "compute_feature_2(12,2532,bug_content, bbr)"
   ]
  },
  {
   "cell_type": "markdown",
   "metadata": {
    "id": "IfL66g2UESyp",
    "pycharm": {
     "name": "#%% md\n"
    }
   },
   "source": [
    "### Feature 3: Class Name Similarity\n",
    "$$ϕ_3(r, s) = \\begin{cases}\n",
    "|s.class| & \\text{if } s.class ∈ r \\\\\n",
    "0 & \\text{otherwise}\n",
    "\\end{cases}$$\n",
    "$s.class$ denote the name of the main class implemented\n",
    "in source file $s$, and $|s.class|$ the name length."
   ]
  },
  {
   "cell_type": "code",
   "execution_count": null,
   "metadata": {
    "id": "w6GNlxOj7QiL",
    "pycharm": {
     "name": "#%%\n"
    }
   },
   "outputs": [],
   "source": [
    "# Feature 3\n",
    "def get_class_name(f):\n",
    "    for i in range(len(f)-1,-1,-1):\n",
    "        if f[i] == \"/\":\n",
    "            return f[i+1:len(f)-5]\n",
    "\n",
    "def compute_feature_3(bug_index, src_index, bug_content,\n",
    "                      all_src_path = all_src_path):\n",
    "    # for i,(x,y) in enumerate(zip(bug_indexes, src_indexes)):\n",
    "    class_name = get_class_name(all_src_path[src_index])\n",
    "    return len(class_name) if class_name in bug_content[bug_index] else 0"
   ]
  },
  {
   "cell_type": "code",
   "execution_count": null,
   "metadata": {
    "id": "MrdU4KPL2vSG",
    "pycharm": {
     "name": "#%%\n"
    }
   },
   "outputs": [],
   "source": [
    "# test feature 3\n",
    "i = 482\n",
    "print(all_src_path[i])\n",
    "print(get_class_name(all_src_path[i]))"
   ]
  },
  {
   "cell_type": "markdown",
   "metadata": {
    "id": "DvvJypHNEZ6Z",
    "pycharm": {
     "name": "#%% md\n"
    }
   },
   "source": [
    "### Feature 4: Bug-Fixing Recency\n",
    "$$ϕ_4(r, s) = (r.month − last(r, s).month + 1)^{−1}$$\n",
    "\n",
    "$last(r, s) ∈ br(r, s)$ be the most recent previously fixed bug.\n",
    "\n",
    "If s was last fixed in the same month that r was created, $ϕ_4(r, s)$ is 1. If s was last fixed one month before r was created, $ϕ_4(r, s)$ is 0.5. If $br(r,s) \\in \\varnothing$, $ϕ_4(r, s)$ is 0"
   ]
  },
  {
   "cell_type": "code",
   "execution_count": null,
   "metadata": {
    "id": "w5qTALId7TdJ",
    "pycharm": {
     "name": "#%%\n"
    }
   },
   "outputs": [],
   "source": [
    "# Feature 4\n",
    "#extract month\n",
    "def get_timestamp(bug_id,bug_df=bug_rp_df):\n",
    "    return pd.to_datetime(bug_df['report_time'])[bug_id]\n",
    "\n",
    "def compute_feature_4(bug_index, src_index, bbr_df):\n",
    "    if bbr_df.empty:\n",
    "        return 0\n",
    "    last_time = get_timestamp(bbr_df['report_timestamp'].idxmax(), bug_df=bbr_df)\n",
    "    bug_time = get_timestamp(bug_index)\n",
    "    return (int((bug_time-last_time)/np.timedelta64(1, 'M')) + 1)**-1"
   ]
  },
  {
   "cell_type": "code",
   "execution_count": null,
   "metadata": {
    "id": "yIk-Z2mlm8vC",
    "pycharm": {
     "name": "#%%\n"
    }
   },
   "outputs": [],
   "source": [
    "x = 175\n",
    "y = 5419\n",
    "bbr = get_before_bug_df(x,y)\n",
    "print(bug_rp_df.loc[x])\n",
    "bbr\n",
    "compute_feature_4(x,y,bbr)"
   ]
  },
  {
   "cell_type": "markdown",
   "metadata": {
    "id": "7maCm4p1Ehbr",
    "pycharm": {
     "name": "#%% md\n"
    }
   },
   "source": [
    "### Feature 5: Bug-Fixing Frequency\n",
    "$$ϕ6(r, s) = |br(r, s)|$$"
   ]
  },
  {
   "cell_type": "code",
   "execution_count": null,
   "metadata": {
    "id": "A3pVbxWV4cO2",
    "pycharm": {
     "name": "#%%\n"
    }
   },
   "outputs": [],
   "source": [
    "def get_before_bug_df(bug_index, src_index, df = bug_rp_df, \n",
    "                      all_src_path = all_src_path):\n",
    "    \"\"\"Get before bug content\n",
    "    input:  bug_index taken from bug report dataframe, \n",
    "            src path is relative path\"\"\"\n",
    "    report_time = bug_rp_df['report_timestamp'].loc[bug_index]\n",
    "    src_path = to_relative_path(all_src_path[src_index]) # relative path\n",
    "    return df.loc[(df.files.str.contains(src_path)) & \n",
    "           (df.index != bug_index) & \n",
    "           (df['report_timestamp'] < report_time)]\n",
    "\n",
    "# def compute_features(bug_indexes, src_indexes, bug_df = bug_rp_df):\n",
    "#     assert len(bug_indexes) == len(src_indexes)\n",
    "\n",
    "    # feature_2 = np.zeros(len(bug_indexes))\n",
    "    # feature_3 = np.zeros(len(bug_indexes))\n",
    "    # feature_4 = np.zeros(len(bug_indexes))\n",
    "    # feature_5 = np.zeros(len(bug_indexes))\n",
    "    # for i,(x,y) in enumerate(zip(bug_indexes, src_indexes)):\n",
    "def compute_features(x,y, bug_content):\n",
    "    bbr_df = get_before_bug_df(x,y)\n",
    "    print(x,y)\n",
    "    try:\n",
    "        feature_2 =  compute_feature_2(x, y, bug_content, bbr_df)\n",
    "\n",
    "        feature_3 = compute_feature_3(x, y, bug_content)\n",
    "        \n",
    "        feature_4 = compute_feature_4(x, y, bbr_df)\n",
    "\n",
    "        feature_5 = len(bbr_df)\n",
    "    except Exception as e:\n",
    "        print(f\"Error on bug_id {x}, source_id {y}\")\n",
    "        print(e)\n",
    "        traceback.print_exc()\n",
    "\n",
    "    return feature_2, feature_3, feature_4, feature_5\n",
    "    # return feature_3, feature_4, feature_5"
   ]
  },
  {
   "cell_type": "markdown",
   "metadata": {
    "id": "Q4q6clBan4zo",
    "pycharm": {
     "name": "#%% md\n"
    }
   },
   "source": [
    "## Create feature set\n",
    "- Each bug take all contaminated src and mark them label 1\n",
    "- Concat those with another 300 bug-free src with lowest tf-idf score"
   ]
  },
  {
   "cell_type": "code",
   "execution_count": null,
   "outputs": [],
   "source": [],
   "metadata": {
    "collapsed": false,
    "pycharm": {
     "name": "#%%\n"
    }
   }
  },
  {
   "cell_type": "code",
   "execution_count": null,
   "metadata": {
    "id": "zNN_Vt8Hn3Kj",
    "pycharm": {
     "name": "#%%\n"
    }
   },
   "outputs": [],
   "source": [
    "def create_feature_set(bug_df = bug_rp_df, all_src_path = all_src_path, \n",
    "                       feature_1 = feature_1, src_dir = src_dir):\n",
    "\n",
    "    assert len(bug_rp_df) == feature_1.shape[0]\n",
    "    assert len(all_src_path) == feature_1.shape[1]\n",
    "\n",
    "bug_df = bug_rp_df\n",
    "feature_df = pd.DataFrame(columns=['bug','src','feature_1','label'])\n",
    "                                # 'feature_3','feature_4','feature_5'])\n",
    "# bug_src_indexes = []\n",
    "\n",
    "for i in tqdm(range(len(bug_df))):\n",
    "    contaminated_src = bug_df['files'].loc[i].split() #relative path\n",
    "    contaminated_index = [all_src_path.index(to_full_path(f)) for f in contaminated_src]\n",
    "\n",
    "    not_contaminated_index = [k for k in range(len(all_src_path)) \\\n",
    "                                if k not in contaminated_index]\n",
    "    negative_300 = sorted(not_contaminated_index, key=lambda y:feature_1[i][y])[:300]\n",
    "    new_src_index = contaminated_index + negative_300\n",
    "    labels = [1]*len(contaminated_index) + [0]*len(negative_300)\n",
    "\n",
    "    # bug_src_indexes.extend([(i,s) for s in new_src_index])\n",
    "    # bug_indexes, src_indexes = list(zip(*bug_src_indexes))\n",
    "    feature_df = feature_df.append(pd.DataFrame({'bug': [i]*len(new_src_index),\n",
    "                        'src': new_src_index,\n",
    "                        'feature_1': [feature_1[i][y] for y in new_src_index],\n",
    "                        'label': labels,\n",
    "                        }),ignore_index=True)\n",
    "feature_df.head()\n",
    "\n",
    "    # feature_2, feature_3, feature_4, feature_5 = compute_features(bug_indexes, src_indexes)\n",
    "                        # 'feature_2': feature_2,\n",
    "                        # 'feature_3': feature_3,\n",
    "                        # 'feature_4': feature_4,\n",
    "                        # 'feature_5': feature_5,\n",
    "    # return feature_df"
   ]
  },
  {
   "cell_type": "code",
   "execution_count": null,
   "metadata": {
    "id": "vLfOntBPgpeQ",
    "pycharm": {
     "name": "#%%\n"
    }
   },
   "outputs": [],
   "source": [
    "bug_content = get_content_bug_rp(bug_df)\n",
    "feature_2345_df = feature_df.apply(lambda x: compute_features(x.bug,  x.src,  bug_content),\n",
    "                                                                axis = 1, result_type='expand', )"
   ]
  },
  {
   "cell_type": "code",
   "source": [
    "# without_2_df = pd.concat([feature_2345_df.rename(columns={0:'feature_3',1:'feature_4',2:'feature_5'}),feature_df],axis=1)\n",
    "# without_2_df"
   ],
   "metadata": {
    "id": "yyhcN81WeclX",
    "pycharm": {
     "name": "#%%\n"
    }
   },
   "execution_count": null,
   "outputs": []
  },
  {
   "cell_type": "code",
   "source": [
    "without_2_df.to_csv(\"without_2.csv\")"
   ],
   "metadata": {
    "id": "rDaE5SzthhJj",
    "pycharm": {
     "name": "#%%\n"
    }
   },
   "execution_count": null,
   "outputs": []
  },
  {
   "cell_type": "code",
   "execution_count": null,
   "metadata": {
    "id": "XwOCdZBURrvR",
    "pycharm": {
     "name": "#%%\n"
    }
   },
   "outputs": [],
   "source": [
    "has_2 = without_2_df.apply(lambda x: compute_feature_2(x.bug,  x.src,  bug_content),\n",
    "                                                                axis = 1, result_type='expand', )"
   ]
  }
 ],
 "metadata": {
  "colab": {
   "collapsed_sections": [],
   "name": "BL Feature engineering.ipynb",
   "provenance": [],
   "toc_visible": true,
   "include_colab_link": true
  },
  "kernelspec": {
   "display_name": "Python 3",
   "name": "python3"
  },
  "language_info": {
   "name": "python"
  },
  "accelerator": "GPU",
  "widgets": {
   "application/vnd.jupyter.widget-state+json": {
    "b231f1193ac9406eaaa6e63530ab1afc": {
     "model_module": "@jupyter-widgets/controls",
     "model_name": "HBoxModel",
     "model_module_version": "1.5.0",
     "state": {
      "_dom_classes": [],
      "_model_module": "@jupyter-widgets/controls",
      "_model_module_version": "1.5.0",
      "_model_name": "HBoxModel",
      "_view_count": null,
      "_view_module": "@jupyter-widgets/controls",
      "_view_module_version": "1.5.0",
      "_view_name": "HBoxView",
      "box_style": "",
      "children": [
       "IPY_MODEL_ab462c50523748799ae65ea05a19c562",
       "IPY_MODEL_8da8cdc94dfb4db4bbea6a2a8282dc1f",
       "IPY_MODEL_90c1794f42da4bf88d5b867105bcf35c"
      ],
      "layout": "IPY_MODEL_8d5e40c5a20240dcb78e09351ba82608"
     }
    },
    "ab462c50523748799ae65ea05a19c562": {
     "model_module": "@jupyter-widgets/controls",
     "model_name": "HTMLModel",
     "model_module_version": "1.5.0",
     "state": {
      "_dom_classes": [],
      "_model_module": "@jupyter-widgets/controls",
      "_model_module_version": "1.5.0",
      "_model_name": "HTMLModel",
      "_view_count": null,
      "_view_module": "@jupyter-widgets/controls",
      "_view_module_version": "1.5.0",
      "_view_name": "HTMLView",
      "description": "",
      "description_tooltip": null,
      "layout": "IPY_MODEL_f537d7ea5ad04cdd99e2f239ad4d758e",
      "placeholder": "​",
      "style": "IPY_MODEL_abaee683ca424480bb48c46742d327b4",
      "value": "Pandas Apply: 100%"
     }
    },
    "8da8cdc94dfb4db4bbea6a2a8282dc1f": {
     "model_module": "@jupyter-widgets/controls",
     "model_name": "FloatProgressModel",
     "model_module_version": "1.5.0",
     "state": {
      "_dom_classes": [],
      "_model_module": "@jupyter-widgets/controls",
      "_model_module_version": "1.5.0",
      "_model_name": "FloatProgressModel",
      "_view_count": null,
      "_view_module": "@jupyter-widgets/controls",
      "_view_module_version": "1.5.0",
      "_view_name": "ProgressView",
      "bar_style": "success",
      "description": "",
      "description_tooltip": null,
      "layout": "IPY_MODEL_29498d5019d946cf8c0bc18765223e70",
      "max": 9383,
      "min": 0,
      "orientation": "horizontal",
      "style": "IPY_MODEL_230644c7c2364a3f83987a8b103234b0",
      "value": 9383
     }
    },
    "90c1794f42da4bf88d5b867105bcf35c": {
     "model_module": "@jupyter-widgets/controls",
     "model_name": "HTMLModel",
     "model_module_version": "1.5.0",
     "state": {
      "_dom_classes": [],
      "_model_module": "@jupyter-widgets/controls",
      "_model_module_version": "1.5.0",
      "_model_name": "HTMLModel",
      "_view_count": null,
      "_view_module": "@jupyter-widgets/controls",
      "_view_module_version": "1.5.0",
      "_view_name": "HTMLView",
      "description": "",
      "description_tooltip": null,
      "layout": "IPY_MODEL_9545eb7ec63d44bebd11034db97c52d1",
      "placeholder": "​",
      "style": "IPY_MODEL_48506d648ae94fcbb5210778a5b40eee",
      "value": " 9383/9383 [00:00&lt;00:00, 23009.96it/s]"
     }
    },
    "8d5e40c5a20240dcb78e09351ba82608": {
     "model_module": "@jupyter-widgets/base",
     "model_name": "LayoutModel",
     "model_module_version": "1.2.0",
     "state": {
      "_model_module": "@jupyter-widgets/base",
      "_model_module_version": "1.2.0",
      "_model_name": "LayoutModel",
      "_view_count": null,
      "_view_module": "@jupyter-widgets/base",
      "_view_module_version": "1.2.0",
      "_view_name": "LayoutView",
      "align_content": null,
      "align_items": null,
      "align_self": null,
      "border": null,
      "bottom": null,
      "display": null,
      "flex": null,
      "flex_flow": null,
      "grid_area": null,
      "grid_auto_columns": null,
      "grid_auto_flow": null,
      "grid_auto_rows": null,
      "grid_column": null,
      "grid_gap": null,
      "grid_row": null,
      "grid_template_areas": null,
      "grid_template_columns": null,
      "grid_template_rows": null,
      "height": null,
      "justify_content": null,
      "justify_items": null,
      "left": null,
      "margin": null,
      "max_height": null,
      "max_width": null,
      "min_height": null,
      "min_width": null,
      "object_fit": null,
      "object_position": null,
      "order": null,
      "overflow": null,
      "overflow_x": null,
      "overflow_y": null,
      "padding": null,
      "right": null,
      "top": null,
      "visibility": null,
      "width": null
     }
    },
    "f537d7ea5ad04cdd99e2f239ad4d758e": {
     "model_module": "@jupyter-widgets/base",
     "model_name": "LayoutModel",
     "model_module_version": "1.2.0",
     "state": {
      "_model_module": "@jupyter-widgets/base",
      "_model_module_version": "1.2.0",
      "_model_name": "LayoutModel",
      "_view_count": null,
      "_view_module": "@jupyter-widgets/base",
      "_view_module_version": "1.2.0",
      "_view_name": "LayoutView",
      "align_content": null,
      "align_items": null,
      "align_self": null,
      "border": null,
      "bottom": null,
      "display": null,
      "flex": null,
      "flex_flow": null,
      "grid_area": null,
      "grid_auto_columns": null,
      "grid_auto_flow": null,
      "grid_auto_rows": null,
      "grid_column": null,
      "grid_gap": null,
      "grid_row": null,
      "grid_template_areas": null,
      "grid_template_columns": null,
      "grid_template_rows": null,
      "height": null,
      "justify_content": null,
      "justify_items": null,
      "left": null,
      "margin": null,
      "max_height": null,
      "max_width": null,
      "min_height": null,
      "min_width": null,
      "object_fit": null,
      "object_position": null,
      "order": null,
      "overflow": null,
      "overflow_x": null,
      "overflow_y": null,
      "padding": null,
      "right": null,
      "top": null,
      "visibility": null,
      "width": null
     }
    },
    "abaee683ca424480bb48c46742d327b4": {
     "model_module": "@jupyter-widgets/controls",
     "model_name": "DescriptionStyleModel",
     "model_module_version": "1.5.0",
     "state": {
      "_model_module": "@jupyter-widgets/controls",
      "_model_module_version": "1.5.0",
      "_model_name": "DescriptionStyleModel",
      "_view_count": null,
      "_view_module": "@jupyter-widgets/base",
      "_view_module_version": "1.2.0",
      "_view_name": "StyleView",
      "description_width": ""
     }
    },
    "29498d5019d946cf8c0bc18765223e70": {
     "model_module": "@jupyter-widgets/base",
     "model_name": "LayoutModel",
     "model_module_version": "1.2.0",
     "state": {
      "_model_module": "@jupyter-widgets/base",
      "_model_module_version": "1.2.0",
      "_model_name": "LayoutModel",
      "_view_count": null,
      "_view_module": "@jupyter-widgets/base",
      "_view_module_version": "1.2.0",
      "_view_name": "LayoutView",
      "align_content": null,
      "align_items": null,
      "align_self": null,
      "border": null,
      "bottom": null,
      "display": null,
      "flex": null,
      "flex_flow": null,
      "grid_area": null,
      "grid_auto_columns": null,
      "grid_auto_flow": null,
      "grid_auto_rows": null,
      "grid_column": null,
      "grid_gap": null,
      "grid_row": null,
      "grid_template_areas": null,
      "grid_template_columns": null,
      "grid_template_rows": null,
      "height": null,
      "justify_content": null,
      "justify_items": null,
      "left": null,
      "margin": null,
      "max_height": null,
      "max_width": null,
      "min_height": null,
      "min_width": null,
      "object_fit": null,
      "object_position": null,
      "order": null,
      "overflow": null,
      "overflow_x": null,
      "overflow_y": null,
      "padding": null,
      "right": null,
      "top": null,
      "visibility": null,
      "width": null
     }
    },
    "230644c7c2364a3f83987a8b103234b0": {
     "model_module": "@jupyter-widgets/controls",
     "model_name": "ProgressStyleModel",
     "model_module_version": "1.5.0",
     "state": {
      "_model_module": "@jupyter-widgets/controls",
      "_model_module_version": "1.5.0",
      "_model_name": "ProgressStyleModel",
      "_view_count": null,
      "_view_module": "@jupyter-widgets/base",
      "_view_module_version": "1.2.0",
      "_view_name": "StyleView",
      "bar_color": null,
      "description_width": ""
     }
    },
    "9545eb7ec63d44bebd11034db97c52d1": {
     "model_module": "@jupyter-widgets/base",
     "model_name": "LayoutModel",
     "model_module_version": "1.2.0",
     "state": {
      "_model_module": "@jupyter-widgets/base",
      "_model_module_version": "1.2.0",
      "_model_name": "LayoutModel",
      "_view_count": null,
      "_view_module": "@jupyter-widgets/base",
      "_view_module_version": "1.2.0",
      "_view_name": "LayoutView",
      "align_content": null,
      "align_items": null,
      "align_self": null,
      "border": null,
      "bottom": null,
      "display": null,
      "flex": null,
      "flex_flow": null,
      "grid_area": null,
      "grid_auto_columns": null,
      "grid_auto_flow": null,
      "grid_auto_rows": null,
      "grid_column": null,
      "grid_gap": null,
      "grid_row": null,
      "grid_template_areas": null,
      "grid_template_columns": null,
      "grid_template_rows": null,
      "height": null,
      "justify_content": null,
      "justify_items": null,
      "left": null,
      "margin": null,
      "max_height": null,
      "max_width": null,
      "min_height": null,
      "min_width": null,
      "object_fit": null,
      "object_position": null,
      "order": null,
      "overflow": null,
      "overflow_x": null,
      "overflow_y": null,
      "padding": null,
      "right": null,
      "top": null,
      "visibility": null,
      "width": null
     }
    },
    "48506d648ae94fcbb5210778a5b40eee": {
     "model_module": "@jupyter-widgets/controls",
     "model_name": "DescriptionStyleModel",
     "model_module_version": "1.5.0",
     "state": {
      "_model_module": "@jupyter-widgets/controls",
      "_model_module_version": "1.5.0",
      "_model_name": "DescriptionStyleModel",
      "_view_count": null,
      "_view_module": "@jupyter-widgets/base",
      "_view_module_version": "1.2.0",
      "_view_name": "StyleView",
      "description_width": ""
     }
    },
    "3a2ebd27aedb441db235c4a86a84c091": {
     "model_module": "@jupyter-widgets/controls",
     "model_name": "HBoxModel",
     "model_module_version": "1.5.0",
     "state": {
      "_dom_classes": [],
      "_model_module": "@jupyter-widgets/controls",
      "_model_module_version": "1.5.0",
      "_model_name": "HBoxModel",
      "_view_count": null,
      "_view_module": "@jupyter-widgets/controls",
      "_view_module_version": "1.5.0",
      "_view_name": "HBoxView",
      "box_style": "",
      "children": [
       "IPY_MODEL_8067691da2b64d3994c10e0b22440e7d",
       "IPY_MODEL_9d65adc3788d435bb443668bd3189de9",
       "IPY_MODEL_453d695e17fd4eccac1ac156c1ef7ddc"
      ],
      "layout": "IPY_MODEL_4f9de80d6ea943dda94c12412081701a"
     }
    },
    "8067691da2b64d3994c10e0b22440e7d": {
     "model_module": "@jupyter-widgets/controls",
     "model_name": "HTMLModel",
     "model_module_version": "1.5.0",
     "state": {
      "_dom_classes": [],
      "_model_module": "@jupyter-widgets/controls",
      "_model_module_version": "1.5.0",
      "_model_name": "HTMLModel",
      "_view_count": null,
      "_view_module": "@jupyter-widgets/controls",
      "_view_module_version": "1.5.0",
      "_view_name": "HTMLView",
      "description": "",
      "description_tooltip": null,
      "layout": "IPY_MODEL_629677d847124ba0a08c6079aee41e29",
      "placeholder": "​",
      "style": "IPY_MODEL_b2f7fb7d121544eb8e7a48cfce2b9d5c",
      "value": "Pandas Apply: 100%"
     }
    },
    "9d65adc3788d435bb443668bd3189de9": {
     "model_module": "@jupyter-widgets/controls",
     "model_name": "FloatProgressModel",
     "model_module_version": "1.5.0",
     "state": {
      "_dom_classes": [],
      "_model_module": "@jupyter-widgets/controls",
      "_model_module_version": "1.5.0",
      "_model_name": "FloatProgressModel",
      "_view_count": null,
      "_view_module": "@jupyter-widgets/controls",
      "_view_module_version": "1.5.0",
      "_view_name": "ProgressView",
      "bar_style": "success",
      "description": "",
      "description_tooltip": null,
      "layout": "IPY_MODEL_dcfa3f675c9d42588c558b175c212be9",
      "max": 9383,
      "min": 0,
      "orientation": "horizontal",
      "style": "IPY_MODEL_358197719c80448d8e46513d91388760",
      "value": 9383
     }
    },
    "453d695e17fd4eccac1ac156c1ef7ddc": {
     "model_module": "@jupyter-widgets/controls",
     "model_name": "HTMLModel",
     "model_module_version": "1.5.0",
     "state": {
      "_dom_classes": [],
      "_model_module": "@jupyter-widgets/controls",
      "_model_module_version": "1.5.0",
      "_model_name": "HTMLModel",
      "_view_count": null,
      "_view_module": "@jupyter-widgets/controls",
      "_view_module_version": "1.5.0",
      "_view_name": "HTMLView",
      "description": "",
      "description_tooltip": null,
      "layout": "IPY_MODEL_6aac67dafd8048d48a273d9e6b5cb74c",
      "placeholder": "​",
      "style": "IPY_MODEL_fe66c94c69ae4ae9ace3935e607863fc",
      "value": " 9383/9383 [04:34&lt;00:00, 18.05it/s]"
     }
    },
    "4f9de80d6ea943dda94c12412081701a": {
     "model_module": "@jupyter-widgets/base",
     "model_name": "LayoutModel",
     "model_module_version": "1.2.0",
     "state": {
      "_model_module": "@jupyter-widgets/base",
      "_model_module_version": "1.2.0",
      "_model_name": "LayoutModel",
      "_view_count": null,
      "_view_module": "@jupyter-widgets/base",
      "_view_module_version": "1.2.0",
      "_view_name": "LayoutView",
      "align_content": null,
      "align_items": null,
      "align_self": null,
      "border": null,
      "bottom": null,
      "display": null,
      "flex": null,
      "flex_flow": null,
      "grid_area": null,
      "grid_auto_columns": null,
      "grid_auto_flow": null,
      "grid_auto_rows": null,
      "grid_column": null,
      "grid_gap": null,
      "grid_row": null,
      "grid_template_areas": null,
      "grid_template_columns": null,
      "grid_template_rows": null,
      "height": null,
      "justify_content": null,
      "justify_items": null,
      "left": null,
      "margin": null,
      "max_height": null,
      "max_width": null,
      "min_height": null,
      "min_width": null,
      "object_fit": null,
      "object_position": null,
      "order": null,
      "overflow": null,
      "overflow_x": null,
      "overflow_y": null,
      "padding": null,
      "right": null,
      "top": null,
      "visibility": null,
      "width": null
     }
    },
    "629677d847124ba0a08c6079aee41e29": {
     "model_module": "@jupyter-widgets/base",
     "model_name": "LayoutModel",
     "model_module_version": "1.2.0",
     "state": {
      "_model_module": "@jupyter-widgets/base",
      "_model_module_version": "1.2.0",
      "_model_name": "LayoutModel",
      "_view_count": null,
      "_view_module": "@jupyter-widgets/base",
      "_view_module_version": "1.2.0",
      "_view_name": "LayoutView",
      "align_content": null,
      "align_items": null,
      "align_self": null,
      "border": null,
      "bottom": null,
      "display": null,
      "flex": null,
      "flex_flow": null,
      "grid_area": null,
      "grid_auto_columns": null,
      "grid_auto_flow": null,
      "grid_auto_rows": null,
      "grid_column": null,
      "grid_gap": null,
      "grid_row": null,
      "grid_template_areas": null,
      "grid_template_columns": null,
      "grid_template_rows": null,
      "height": null,
      "justify_content": null,
      "justify_items": null,
      "left": null,
      "margin": null,
      "max_height": null,
      "max_width": null,
      "min_height": null,
      "min_width": null,
      "object_fit": null,
      "object_position": null,
      "order": null,
      "overflow": null,
      "overflow_x": null,
      "overflow_y": null,
      "padding": null,
      "right": null,
      "top": null,
      "visibility": null,
      "width": null
     }
    },
    "b2f7fb7d121544eb8e7a48cfce2b9d5c": {
     "model_module": "@jupyter-widgets/controls",
     "model_name": "DescriptionStyleModel",
     "model_module_version": "1.5.0",
     "state": {
      "_model_module": "@jupyter-widgets/controls",
      "_model_module_version": "1.5.0",
      "_model_name": "DescriptionStyleModel",
      "_view_count": null,
      "_view_module": "@jupyter-widgets/base",
      "_view_module_version": "1.2.0",
      "_view_name": "StyleView",
      "description_width": ""
     }
    },
    "dcfa3f675c9d42588c558b175c212be9": {
     "model_module": "@jupyter-widgets/base",
     "model_name": "LayoutModel",
     "model_module_version": "1.2.0",
     "state": {
      "_model_module": "@jupyter-widgets/base",
      "_model_module_version": "1.2.0",
      "_model_name": "LayoutModel",
      "_view_count": null,
      "_view_module": "@jupyter-widgets/base",
      "_view_module_version": "1.2.0",
      "_view_name": "LayoutView",
      "align_content": null,
      "align_items": null,
      "align_self": null,
      "border": null,
      "bottom": null,
      "display": null,
      "flex": null,
      "flex_flow": null,
      "grid_area": null,
      "grid_auto_columns": null,
      "grid_auto_flow": null,
      "grid_auto_rows": null,
      "grid_column": null,
      "grid_gap": null,
      "grid_row": null,
      "grid_template_areas": null,
      "grid_template_columns": null,
      "grid_template_rows": null,
      "height": null,
      "justify_content": null,
      "justify_items": null,
      "left": null,
      "margin": null,
      "max_height": null,
      "max_width": null,
      "min_height": null,
      "min_width": null,
      "object_fit": null,
      "object_position": null,
      "order": null,
      "overflow": null,
      "overflow_x": null,
      "overflow_y": null,
      "padding": null,
      "right": null,
      "top": null,
      "visibility": null,
      "width": null
     }
    },
    "358197719c80448d8e46513d91388760": {
     "model_module": "@jupyter-widgets/controls",
     "model_name": "ProgressStyleModel",
     "model_module_version": "1.5.0",
     "state": {
      "_model_module": "@jupyter-widgets/controls",
      "_model_module_version": "1.5.0",
      "_model_name": "ProgressStyleModel",
      "_view_count": null,
      "_view_module": "@jupyter-widgets/base",
      "_view_module_version": "1.2.0",
      "_view_name": "StyleView",
      "bar_color": null,
      "description_width": ""
     }
    },
    "6aac67dafd8048d48a273d9e6b5cb74c": {
     "model_module": "@jupyter-widgets/base",
     "model_name": "LayoutModel",
     "model_module_version": "1.2.0",
     "state": {
      "_model_module": "@jupyter-widgets/base",
      "_model_module_version": "1.2.0",
      "_model_name": "LayoutModel",
      "_view_count": null,
      "_view_module": "@jupyter-widgets/base",
      "_view_module_version": "1.2.0",
      "_view_name": "LayoutView",
      "align_content": null,
      "align_items": null,
      "align_self": null,
      "border": null,
      "bottom": null,
      "display": null,
      "flex": null,
      "flex_flow": null,
      "grid_area": null,
      "grid_auto_columns": null,
      "grid_auto_flow": null,
      "grid_auto_rows": null,
      "grid_column": null,
      "grid_gap": null,
      "grid_row": null,
      "grid_template_areas": null,
      "grid_template_columns": null,
      "grid_template_rows": null,
      "height": null,
      "justify_content": null,
      "justify_items": null,
      "left": null,
      "margin": null,
      "max_height": null,
      "max_width": null,
      "min_height": null,
      "min_width": null,
      "object_fit": null,
      "object_position": null,
      "order": null,
      "overflow": null,
      "overflow_x": null,
      "overflow_y": null,
      "padding": null,
      "right": null,
      "top": null,
      "visibility": null,
      "width": null
     }
    },
    "fe66c94c69ae4ae9ace3935e607863fc": {
     "model_module": "@jupyter-widgets/controls",
     "model_name": "DescriptionStyleModel",
     "model_module_version": "1.5.0",
     "state": {
      "_model_module": "@jupyter-widgets/controls",
      "_model_module_version": "1.5.0",
      "_model_name": "DescriptionStyleModel",
      "_view_count": null,
      "_view_module": "@jupyter-widgets/base",
      "_view_module_version": "1.2.0",
      "_view_name": "StyleView",
      "description_width": ""
     }
    }
   }
  }
 },
 "nbformat": 4,
 "nbformat_minor": 0
}