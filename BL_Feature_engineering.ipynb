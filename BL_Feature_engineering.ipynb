{
  "cells": [
    {
      "cell_type": "markdown",
      "metadata": {
        "id": "view-in-github",
        "colab_type": "text"
      },
      "source": [
        "<a href=\"https://colab.research.google.com/github/hungpham13/Bug-localization/blob/main/BL_Feature_engineering.ipynb\" target=\"_parent\"><img src=\"https://colab.research.google.com/assets/colab-badge.svg\" alt=\"Open In Colab\"/></a>"
      ]
    },
    {
      "cell_type": "markdown",
      "metadata": {
        "id": "2YKCl0fLtUWQ",
        "pycharm": {
          "name": "#%% md\n"
        }
      },
      "source": [
        "# Feature engineering"
      ]
    },
    {
      "cell_type": "code",
      "execution_count": 1,
      "outputs": [
        {
          "output_type": "stream",
          "name": "stdout",
          "text": [
            "Cloning into 'Bug-localization'...\n",
            "remote: Enumerating objects: 49153, done.\u001b[K\n",
            "remote: Counting objects: 100% (42/42), done.\u001b[K\n",
            "remote: Compressing objects: 100% (32/32), done.\u001b[K\n",
            "remote: Total 49153 (delta 10), reused 41 (delta 9), pack-reused 49111\u001b[K\n",
            "Receiving objects: 100% (49153/49153), 271.95 MiB | 11.76 MiB/s, done.\n",
            "Resolving deltas: 100% (13777/13777), done.\n",
            "Checking out files: 100% (42324/42324), done.\n",
            "/content/Bug-localization\n",
            "Collecting javalang>=0.13.0\n",
            "  Downloading javalang-0.13.0-py3-none-any.whl (22 kB)\n",
            "Requirement already satisfied: matplotlib>=3.2.2 in /usr/local/lib/python3.7/dist-packages (from -r requirements.txt (line 4)) (3.2.2)\n",
            "Requirement already satisfied: numpy>=1.18.5 in /usr/local/lib/python3.7/dist-packages (from -r requirements.txt (line 5)) (1.21.6)\n",
            "Requirement already satisfied: scipy>=1.4.1 in /usr/local/lib/python3.7/dist-packages (from -r requirements.txt (line 6)) (1.4.1)\n",
            "Requirement already satisfied: scikit-learn>=0.19.2 in /usr/local/lib/python3.7/dist-packages (from -r requirements.txt (line 7)) (1.0.2)\n",
            "Requirement already satisfied: tqdm>=4.41.0 in /usr/local/lib/python3.7/dist-packages (from -r requirements.txt (line 10)) (4.64.0)\n",
            "Requirement already satisfied: pandas>=1.1.4 in /usr/local/lib/python3.7/dist-packages (from -r requirements.txt (line 11)) (1.3.5)\n",
            "Requirement already satisfied: seaborn>=0.11.0 in /usr/local/lib/python3.7/dist-packages (from -r requirements.txt (line 12)) (0.11.2)\n",
            "Collecting xlrd==1.2.0\n",
            "  Downloading xlrd-1.2.0-py2.py3-none-any.whl (103 kB)\n",
            "\u001b[K     |████████████████████████████████| 103 kB 5.6 MB/s \n",
            "\u001b[?25hRequirement already satisfied: Pygments>=2.3.1 in /usr/local/lib/python3.7/dist-packages (from -r requirements.txt (line 14)) (2.6.1)\n",
            "Collecting swifter>=1.1.3\n",
            "  Downloading swifter-1.1.3.tar.gz (647 kB)\n",
            "\u001b[K     |████████████████████████████████| 647 kB 11.9 MB/s \n",
            "\u001b[?25hRequirement already satisfied: six in /usr/local/lib/python3.7/dist-packages (from javalang>=0.13.0->-r requirements.txt (line 3)) (1.15.0)\n",
            "Requirement already satisfied: pyparsing!=2.0.4,!=2.1.2,!=2.1.6,>=2.0.1 in /usr/local/lib/python3.7/dist-packages (from matplotlib>=3.2.2->-r requirements.txt (line 4)) (3.0.8)\n",
            "Requirement already satisfied: kiwisolver>=1.0.1 in /usr/local/lib/python3.7/dist-packages (from matplotlib>=3.2.2->-r requirements.txt (line 4)) (1.4.2)\n",
            "Requirement already satisfied: cycler>=0.10 in /usr/local/lib/python3.7/dist-packages (from matplotlib>=3.2.2->-r requirements.txt (line 4)) (0.11.0)\n",
            "Requirement already satisfied: python-dateutil>=2.1 in /usr/local/lib/python3.7/dist-packages (from matplotlib>=3.2.2->-r requirements.txt (line 4)) (2.8.2)\n",
            "Requirement already satisfied: threadpoolctl>=2.0.0 in /usr/local/lib/python3.7/dist-packages (from scikit-learn>=0.19.2->-r requirements.txt (line 7)) (3.1.0)\n",
            "Requirement already satisfied: joblib>=0.11 in /usr/local/lib/python3.7/dist-packages (from scikit-learn>=0.19.2->-r requirements.txt (line 7)) (1.1.0)\n",
            "Requirement already satisfied: pytz>=2017.3 in /usr/local/lib/python3.7/dist-packages (from pandas>=1.1.4->-r requirements.txt (line 11)) (2022.1)\n",
            "Collecting psutil>=5.6.6\n",
            "  Downloading psutil-5.9.0-cp37-cp37m-manylinux_2_12_x86_64.manylinux2010_x86_64.manylinux_2_17_x86_64.manylinux2014_x86_64.whl (280 kB)\n",
            "\u001b[K     |████████████████████████████████| 280 kB 51.2 MB/s \n",
            "\u001b[?25hRequirement already satisfied: dask[dataframe]>=2.10.0 in /usr/local/lib/python3.7/dist-packages (from swifter>=1.1.3->-r requirements.txt (line 15)) (2.12.0)\n",
            "Requirement already satisfied: ipywidgets>=7.0.0 in /usr/local/lib/python3.7/dist-packages (from swifter>=1.1.3->-r requirements.txt (line 15)) (7.7.0)\n",
            "Requirement already satisfied: cloudpickle>=0.2.2 in /usr/local/lib/python3.7/dist-packages (from swifter>=1.1.3->-r requirements.txt (line 15)) (1.3.0)\n",
            "Requirement already satisfied: parso>0.4.0 in /usr/local/lib/python3.7/dist-packages (from swifter>=1.1.3->-r requirements.txt (line 15)) (0.8.3)\n",
            "Requirement already satisfied: bleach>=3.1.1 in /usr/local/lib/python3.7/dist-packages (from swifter>=1.1.3->-r requirements.txt (line 15)) (5.0.0)\n",
            "Requirement already satisfied: webencodings in /usr/local/lib/python3.7/dist-packages (from bleach>=3.1.1->swifter>=1.1.3->-r requirements.txt (line 15)) (0.5.1)\n",
            "Requirement already satisfied: toolz>=0.7.3 in /usr/local/lib/python3.7/dist-packages (from dask[dataframe]>=2.10.0->swifter>=1.1.3->-r requirements.txt (line 15)) (0.11.2)\n",
            "Collecting fsspec>=0.6.0\n",
            "  Downloading fsspec-2022.3.0-py3-none-any.whl (136 kB)\n",
            "\u001b[K     |████████████████████████████████| 136 kB 53.8 MB/s \n",
            "\u001b[?25hCollecting partd>=0.3.10\n",
            "  Downloading partd-1.2.0-py3-none-any.whl (19 kB)\n",
            "Requirement already satisfied: ipykernel>=4.5.1 in /usr/local/lib/python3.7/dist-packages (from ipywidgets>=7.0.0->swifter>=1.1.3->-r requirements.txt (line 15)) (4.10.1)\n",
            "Requirement already satisfied: ipython>=4.0.0 in /usr/local/lib/python3.7/dist-packages (from ipywidgets>=7.0.0->swifter>=1.1.3->-r requirements.txt (line 15)) (5.5.0)\n",
            "Requirement already satisfied: widgetsnbextension~=3.6.0 in /usr/local/lib/python3.7/dist-packages (from ipywidgets>=7.0.0->swifter>=1.1.3->-r requirements.txt (line 15)) (3.6.0)\n",
            "Requirement already satisfied: ipython-genutils~=0.2.0 in /usr/local/lib/python3.7/dist-packages (from ipywidgets>=7.0.0->swifter>=1.1.3->-r requirements.txt (line 15)) (0.2.0)\n",
            "Requirement already satisfied: nbformat>=4.2.0 in /usr/local/lib/python3.7/dist-packages (from ipywidgets>=7.0.0->swifter>=1.1.3->-r requirements.txt (line 15)) (5.3.0)\n",
            "Requirement already satisfied: traitlets>=4.3.1 in /usr/local/lib/python3.7/dist-packages (from ipywidgets>=7.0.0->swifter>=1.1.3->-r requirements.txt (line 15)) (5.1.1)\n",
            "Requirement already satisfied: jupyterlab-widgets>=1.0.0 in /usr/local/lib/python3.7/dist-packages (from ipywidgets>=7.0.0->swifter>=1.1.3->-r requirements.txt (line 15)) (1.1.0)\n",
            "Requirement already satisfied: jupyter-client in /usr/local/lib/python3.7/dist-packages (from ipykernel>=4.5.1->ipywidgets>=7.0.0->swifter>=1.1.3->-r requirements.txt (line 15)) (5.3.5)\n",
            "Requirement already satisfied: tornado>=4.0 in /usr/local/lib/python3.7/dist-packages (from ipykernel>=4.5.1->ipywidgets>=7.0.0->swifter>=1.1.3->-r requirements.txt (line 15)) (5.1.1)\n",
            "Requirement already satisfied: setuptools>=18.5 in /usr/local/lib/python3.7/dist-packages (from ipython>=4.0.0->ipywidgets>=7.0.0->swifter>=1.1.3->-r requirements.txt (line 15)) (57.4.0)\n",
            "Requirement already satisfied: decorator in /usr/local/lib/python3.7/dist-packages (from ipython>=4.0.0->ipywidgets>=7.0.0->swifter>=1.1.3->-r requirements.txt (line 15)) (4.4.2)\n",
            "Requirement already satisfied: pickleshare in /usr/local/lib/python3.7/dist-packages (from ipython>=4.0.0->ipywidgets>=7.0.0->swifter>=1.1.3->-r requirements.txt (line 15)) (0.7.5)\n",
            "Requirement already satisfied: simplegeneric>0.8 in /usr/local/lib/python3.7/dist-packages (from ipython>=4.0.0->ipywidgets>=7.0.0->swifter>=1.1.3->-r requirements.txt (line 15)) (0.8.1)\n",
            "Requirement already satisfied: prompt-toolkit<2.0.0,>=1.0.4 in /usr/local/lib/python3.7/dist-packages (from ipython>=4.0.0->ipywidgets>=7.0.0->swifter>=1.1.3->-r requirements.txt (line 15)) (1.0.18)\n",
            "Requirement already satisfied: pexpect in /usr/local/lib/python3.7/dist-packages (from ipython>=4.0.0->ipywidgets>=7.0.0->swifter>=1.1.3->-r requirements.txt (line 15)) (4.8.0)\n",
            "Requirement already satisfied: typing-extensions in /usr/local/lib/python3.7/dist-packages (from kiwisolver>=1.0.1->matplotlib>=3.2.2->-r requirements.txt (line 4)) (4.2.0)\n",
            "Requirement already satisfied: fastjsonschema in /usr/local/lib/python3.7/dist-packages (from nbformat>=4.2.0->ipywidgets>=7.0.0->swifter>=1.1.3->-r requirements.txt (line 15)) (2.15.3)\n",
            "Requirement already satisfied: jsonschema>=2.6 in /usr/local/lib/python3.7/dist-packages (from nbformat>=4.2.0->ipywidgets>=7.0.0->swifter>=1.1.3->-r requirements.txt (line 15)) (4.3.3)\n",
            "Requirement already satisfied: jupyter-core in /usr/local/lib/python3.7/dist-packages (from nbformat>=4.2.0->ipywidgets>=7.0.0->swifter>=1.1.3->-r requirements.txt (line 15)) (4.10.0)\n",
            "Requirement already satisfied: attrs>=17.4.0 in /usr/local/lib/python3.7/dist-packages (from jsonschema>=2.6->nbformat>=4.2.0->ipywidgets>=7.0.0->swifter>=1.1.3->-r requirements.txt (line 15)) (21.4.0)\n",
            "Requirement already satisfied: importlib-metadata in /usr/local/lib/python3.7/dist-packages (from jsonschema>=2.6->nbformat>=4.2.0->ipywidgets>=7.0.0->swifter>=1.1.3->-r requirements.txt (line 15)) (4.11.3)\n",
            "Requirement already satisfied: importlib-resources>=1.4.0 in /usr/local/lib/python3.7/dist-packages (from jsonschema>=2.6->nbformat>=4.2.0->ipywidgets>=7.0.0->swifter>=1.1.3->-r requirements.txt (line 15)) (5.7.1)\n",
            "Requirement already satisfied: pyrsistent!=0.17.0,!=0.17.1,!=0.17.2,>=0.14.0 in /usr/local/lib/python3.7/dist-packages (from jsonschema>=2.6->nbformat>=4.2.0->ipywidgets>=7.0.0->swifter>=1.1.3->-r requirements.txt (line 15)) (0.18.1)\n",
            "Requirement already satisfied: zipp>=3.1.0 in /usr/local/lib/python3.7/dist-packages (from importlib-resources>=1.4.0->jsonschema>=2.6->nbformat>=4.2.0->ipywidgets>=7.0.0->swifter>=1.1.3->-r requirements.txt (line 15)) (3.8.0)\n",
            "Collecting locket\n",
            "  Downloading locket-1.0.0-py2.py3-none-any.whl (4.4 kB)\n",
            "Requirement already satisfied: wcwidth in /usr/local/lib/python3.7/dist-packages (from prompt-toolkit<2.0.0,>=1.0.4->ipython>=4.0.0->ipywidgets>=7.0.0->swifter>=1.1.3->-r requirements.txt (line 15)) (0.2.5)\n",
            "Requirement already satisfied: notebook>=4.4.1 in /usr/local/lib/python3.7/dist-packages (from widgetsnbextension~=3.6.0->ipywidgets>=7.0.0->swifter>=1.1.3->-r requirements.txt (line 15)) (5.3.1)\n",
            "Requirement already satisfied: nbconvert in /usr/local/lib/python3.7/dist-packages (from notebook>=4.4.1->widgetsnbextension~=3.6.0->ipywidgets>=7.0.0->swifter>=1.1.3->-r requirements.txt (line 15)) (5.6.1)\n",
            "Requirement already satisfied: terminado>=0.8.1 in /usr/local/lib/python3.7/dist-packages (from notebook>=4.4.1->widgetsnbextension~=3.6.0->ipywidgets>=7.0.0->swifter>=1.1.3->-r requirements.txt (line 15)) (0.13.3)\n",
            "Requirement already satisfied: Send2Trash in /usr/local/lib/python3.7/dist-packages (from notebook>=4.4.1->widgetsnbextension~=3.6.0->ipywidgets>=7.0.0->swifter>=1.1.3->-r requirements.txt (line 15)) (1.8.0)\n",
            "Requirement already satisfied: jinja2 in /usr/local/lib/python3.7/dist-packages (from notebook>=4.4.1->widgetsnbextension~=3.6.0->ipywidgets>=7.0.0->swifter>=1.1.3->-r requirements.txt (line 15)) (2.11.3)\n",
            "Requirement already satisfied: pyzmq>=13 in /usr/local/lib/python3.7/dist-packages (from jupyter-client->ipykernel>=4.5.1->ipywidgets>=7.0.0->swifter>=1.1.3->-r requirements.txt (line 15)) (22.3.0)\n",
            "Requirement already satisfied: ptyprocess in /usr/local/lib/python3.7/dist-packages (from terminado>=0.8.1->notebook>=4.4.1->widgetsnbextension~=3.6.0->ipywidgets>=7.0.0->swifter>=1.1.3->-r requirements.txt (line 15)) (0.7.0)\n",
            "Requirement already satisfied: MarkupSafe>=0.23 in /usr/local/lib/python3.7/dist-packages (from jinja2->notebook>=4.4.1->widgetsnbextension~=3.6.0->ipywidgets>=7.0.0->swifter>=1.1.3->-r requirements.txt (line 15)) (2.0.1)\n",
            "Requirement already satisfied: testpath in /usr/local/lib/python3.7/dist-packages (from nbconvert->notebook>=4.4.1->widgetsnbextension~=3.6.0->ipywidgets>=7.0.0->swifter>=1.1.3->-r requirements.txt (line 15)) (0.6.0)\n",
            "Requirement already satisfied: pandocfilters>=1.4.1 in /usr/local/lib/python3.7/dist-packages (from nbconvert->notebook>=4.4.1->widgetsnbextension~=3.6.0->ipywidgets>=7.0.0->swifter>=1.1.3->-r requirements.txt (line 15)) (1.5.0)\n",
            "Requirement already satisfied: mistune<2,>=0.8.1 in /usr/local/lib/python3.7/dist-packages (from nbconvert->notebook>=4.4.1->widgetsnbextension~=3.6.0->ipywidgets>=7.0.0->swifter>=1.1.3->-r requirements.txt (line 15)) (0.8.4)\n",
            "Requirement already satisfied: entrypoints>=0.2.2 in /usr/local/lib/python3.7/dist-packages (from nbconvert->notebook>=4.4.1->widgetsnbextension~=3.6.0->ipywidgets>=7.0.0->swifter>=1.1.3->-r requirements.txt (line 15)) (0.4)\n",
            "Requirement already satisfied: defusedxml in /usr/local/lib/python3.7/dist-packages (from nbconvert->notebook>=4.4.1->widgetsnbextension~=3.6.0->ipywidgets>=7.0.0->swifter>=1.1.3->-r requirements.txt (line 15)) (0.7.1)\n",
            "Building wheels for collected packages: swifter\n",
            "  Building wheel for swifter (setup.py) ... \u001b[?25l\u001b[?25hdone\n",
            "  Created wheel for swifter: filename=swifter-1.1.3-py3-none-any.whl size=13078 sha256=909c4c5e1348a3562c876d79805f2ad31fa37f062a1fdef070543cc875112300\n",
            "  Stored in directory: /root/.cache/pip/wheels/e8/1a/1b/46aa7b0fac16d3ce1bccaac14bfe4fad972642217ae78d8160\n",
            "Successfully built swifter\n",
            "Installing collected packages: locket, partd, fsspec, psutil, xlrd, swifter, javalang\n",
            "  Attempting uninstall: psutil\n",
            "    Found existing installation: psutil 5.4.8\n",
            "    Uninstalling psutil-5.4.8:\n",
            "      Successfully uninstalled psutil-5.4.8\n",
            "  Attempting uninstall: xlrd\n",
            "    Found existing installation: xlrd 1.1.0\n",
            "    Uninstalling xlrd-1.1.0:\n",
            "      Successfully uninstalled xlrd-1.1.0\n",
            "Successfully installed fsspec-2022.3.0 javalang-0.13.0 locket-1.0.0 partd-1.2.0 psutil-5.9.0 swifter-1.1.3 xlrd-1.2.0\n"
          ]
        },
        {
          "output_type": "display_data",
          "data": {
            "application/vnd.colab-display-data+json": {
              "pip_warning": {
                "packages": [
                  "psutil"
                ]
              }
            }
          },
          "metadata": {}
        }
      ],
      "source": [
        "!git clone https://github.com/hungpham13/Bug-localization.git\n",
        "%cd Bug-localization\n",
        "!pip install -r requirements.txt"
      ],
      "metadata": {
        "pycharm": {
          "name": "#%%\n"
        },
        "id": "43_Dz0c4Wlgi",
        "outputId": "3d189d70-4e3d-4885-d72c-51305d44866b",
        "colab": {
          "base_uri": "https://localhost:8080/",
          "height": 1000
        }
      }
    },
    {
      "cell_type": "markdown",
      "source": [
        "Bug report preprocessing"
      ],
      "metadata": {
        "collapsed": false,
        "pycharm": {
          "name": "#%% md\n"
        },
        "id": "DnrIMc1PWlgk"
      }
    },
    {
      "cell_type": "code",
      "execution_count": 2,
      "outputs": [
        {
          "output_type": "execute_result",
          "data": {
            "text/plain": [
              "                                             summary  \\\n",
              "0  Missing help content reference in MongoDB ODA ...   \n",
              "1  Documentation of possible values/objects of pr...   \n",
              "2  Nested DataEngineSessions and wrong initializa...   \n",
              "3                      JBoss + Sybase database issue   \n",
              "4  ArrayIndexOutOfBoundsException when parsing pa...   \n",
              "\n",
              "                                         description         report_time  \\\n",
              "0  The help context ID is not referenced by the M... 2013-11-20 20:05:32   \n",
              "1                                                    2012-09-11 05:16:02   \n",
              "2  I have following use case: - Data Cube with me... 2013-03-14 05:52:07   \n",
              "3  Build Identifier: 3.7.100.v20110510-0712 Hi, J... 2012-03-26 05:12:15   \n",
              "4  There is a bug in org.eclipse.birt.report.engi... 2013-09-11 04:59:50   \n",
              "\n",
              "                                             content  \\\n",
              "0  Missing help content reference in MongoDB ODA ...   \n",
              "1  Documentation of possible values/objects of pr...   \n",
              "2  Nested DataEngineSessions and wrong initializa...   \n",
              "3  JBoss + Sybase database issue. Build Identifie...   \n",
              "4  ArrayIndexOutOfBoundsException when parsing pa...   \n",
              "\n",
              "                                         fixed_files  \n",
              "0  [data/org.eclipse.birt.data.oda.mongodb.ui/src...  \n",
              "1  [chart/org.eclipse.birt.chart.engine/src/org/e...  \n",
              "2  [data/org.eclipse.birt.data/src/org/eclipse/bi...  \n",
              "3  [data/org.eclipse.birt.report.data.oda.jdbc/sr...  \n",
              "4  [engine/org.eclipse.birt.report.engine/src/org...  "
            ],
            "text/html": [
              "\n",
              "  <div id=\"df-d2c38971-4661-4674-a684-8cbce0928a06\">\n",
              "    <div class=\"colab-df-container\">\n",
              "      <div>\n",
              "<style scoped>\n",
              "    .dataframe tbody tr th:only-of-type {\n",
              "        vertical-align: middle;\n",
              "    }\n",
              "\n",
              "    .dataframe tbody tr th {\n",
              "        vertical-align: top;\n",
              "    }\n",
              "\n",
              "    .dataframe thead th {\n",
              "        text-align: right;\n",
              "    }\n",
              "</style>\n",
              "<table border=\"1\" class=\"dataframe\">\n",
              "  <thead>\n",
              "    <tr style=\"text-align: right;\">\n",
              "      <th></th>\n",
              "      <th>summary</th>\n",
              "      <th>description</th>\n",
              "      <th>report_time</th>\n",
              "      <th>content</th>\n",
              "      <th>fixed_files</th>\n",
              "    </tr>\n",
              "  </thead>\n",
              "  <tbody>\n",
              "    <tr>\n",
              "      <th>0</th>\n",
              "      <td>Missing help content reference in MongoDB ODA ...</td>\n",
              "      <td>The help context ID is not referenced by the M...</td>\n",
              "      <td>2013-11-20 20:05:32</td>\n",
              "      <td>Missing help content reference in MongoDB ODA ...</td>\n",
              "      <td>[data/org.eclipse.birt.data.oda.mongodb.ui/src...</td>\n",
              "    </tr>\n",
              "    <tr>\n",
              "      <th>1</th>\n",
              "      <td>Documentation of possible values/objects of pr...</td>\n",
              "      <td></td>\n",
              "      <td>2012-09-11 05:16:02</td>\n",
              "      <td>Documentation of possible values/objects of pr...</td>\n",
              "      <td>[chart/org.eclipse.birt.chart.engine/src/org/e...</td>\n",
              "    </tr>\n",
              "    <tr>\n",
              "      <th>2</th>\n",
              "      <td>Nested DataEngineSessions and wrong initializa...</td>\n",
              "      <td>I have following use case: - Data Cube with me...</td>\n",
              "      <td>2013-03-14 05:52:07</td>\n",
              "      <td>Nested DataEngineSessions and wrong initializa...</td>\n",
              "      <td>[data/org.eclipse.birt.data/src/org/eclipse/bi...</td>\n",
              "    </tr>\n",
              "    <tr>\n",
              "      <th>3</th>\n",
              "      <td>JBoss + Sybase database issue</td>\n",
              "      <td>Build Identifier: 3.7.100.v20110510-0712 Hi, J...</td>\n",
              "      <td>2012-03-26 05:12:15</td>\n",
              "      <td>JBoss + Sybase database issue. Build Identifie...</td>\n",
              "      <td>[data/org.eclipse.birt.report.data.oda.jdbc/sr...</td>\n",
              "    </tr>\n",
              "    <tr>\n",
              "      <th>4</th>\n",
              "      <td>ArrayIndexOutOfBoundsException when parsing pa...</td>\n",
              "      <td>There is a bug in org.eclipse.birt.report.engi...</td>\n",
              "      <td>2013-09-11 04:59:50</td>\n",
              "      <td>ArrayIndexOutOfBoundsException when parsing pa...</td>\n",
              "      <td>[engine/org.eclipse.birt.report.engine/src/org...</td>\n",
              "    </tr>\n",
              "  </tbody>\n",
              "</table>\n",
              "</div>\n",
              "      <button class=\"colab-df-convert\" onclick=\"convertToInteractive('df-d2c38971-4661-4674-a684-8cbce0928a06')\"\n",
              "              title=\"Convert this dataframe to an interactive table.\"\n",
              "              style=\"display:none;\">\n",
              "        \n",
              "  <svg xmlns=\"http://www.w3.org/2000/svg\" height=\"24px\"viewBox=\"0 0 24 24\"\n",
              "       width=\"24px\">\n",
              "    <path d=\"M0 0h24v24H0V0z\" fill=\"none\"/>\n",
              "    <path d=\"M18.56 5.44l.94 2.06.94-2.06 2.06-.94-2.06-.94-.94-2.06-.94 2.06-2.06.94zm-11 1L8.5 8.5l.94-2.06 2.06-.94-2.06-.94L8.5 2.5l-.94 2.06-2.06.94zm10 10l.94 2.06.94-2.06 2.06-.94-2.06-.94-.94-2.06-.94 2.06-2.06.94z\"/><path d=\"M17.41 7.96l-1.37-1.37c-.4-.4-.92-.59-1.43-.59-.52 0-1.04.2-1.43.59L10.3 9.45l-7.72 7.72c-.78.78-.78 2.05 0 2.83L4 21.41c.39.39.9.59 1.41.59.51 0 1.02-.2 1.41-.59l7.78-7.78 2.81-2.81c.8-.78.8-2.07 0-2.86zM5.41 20L4 18.59l7.72-7.72 1.47 1.35L5.41 20z\"/>\n",
              "  </svg>\n",
              "      </button>\n",
              "      \n",
              "  <style>\n",
              "    .colab-df-container {\n",
              "      display:flex;\n",
              "      flex-wrap:wrap;\n",
              "      gap: 12px;\n",
              "    }\n",
              "\n",
              "    .colab-df-convert {\n",
              "      background-color: #E8F0FE;\n",
              "      border: none;\n",
              "      border-radius: 50%;\n",
              "      cursor: pointer;\n",
              "      display: none;\n",
              "      fill: #1967D2;\n",
              "      height: 32px;\n",
              "      padding: 0 0 0 0;\n",
              "      width: 32px;\n",
              "    }\n",
              "\n",
              "    .colab-df-convert:hover {\n",
              "      background-color: #E2EBFA;\n",
              "      box-shadow: 0px 1px 2px rgba(60, 64, 67, 0.3), 0px 1px 3px 1px rgba(60, 64, 67, 0.15);\n",
              "      fill: #174EA6;\n",
              "    }\n",
              "\n",
              "    [theme=dark] .colab-df-convert {\n",
              "      background-color: #3B4455;\n",
              "      fill: #D2E3FC;\n",
              "    }\n",
              "\n",
              "    [theme=dark] .colab-df-convert:hover {\n",
              "      background-color: #434B5C;\n",
              "      box-shadow: 0px 1px 3px 1px rgba(0, 0, 0, 0.15);\n",
              "      filter: drop-shadow(0px 1px 2px rgba(0, 0, 0, 0.3));\n",
              "      fill: #FFFFFF;\n",
              "    }\n",
              "  </style>\n",
              "\n",
              "      <script>\n",
              "        const buttonEl =\n",
              "          document.querySelector('#df-d2c38971-4661-4674-a684-8cbce0928a06 button.colab-df-convert');\n",
              "        buttonEl.style.display =\n",
              "          google.colab.kernel.accessAllowed ? 'block' : 'none';\n",
              "\n",
              "        async function convertToInteractive(key) {\n",
              "          const element = document.querySelector('#df-d2c38971-4661-4674-a684-8cbce0928a06');\n",
              "          const dataTable =\n",
              "            await google.colab.kernel.invokeFunction('convertToInteractive',\n",
              "                                                     [key], {});\n",
              "          if (!dataTable) return;\n",
              "\n",
              "          const docLinkHtml = 'Like what you see? Visit the ' +\n",
              "            '<a target=\"_blank\" href=https://colab.research.google.com/notebooks/data_table.ipynb>data table notebook</a>'\n",
              "            + ' to learn more about interactive tables.';\n",
              "          element.innerHTML = '';\n",
              "          dataTable['output_type'] = 'display_data';\n",
              "          await google.colab.output.renderOutput(dataTable, element);\n",
              "          const docLink = document.createElement('div');\n",
              "          docLink.innerHTML = docLinkHtml;\n",
              "          element.appendChild(docLink);\n",
              "        }\n",
              "      </script>\n",
              "    </div>\n",
              "  </div>\n",
              "  "
            ]
          },
          "metadata": {},
          "execution_count": 2
        }
      ],
      "source": [
        "from preprocessing.preprocessing import BugReportsPreprocess\n",
        "s = BugReportsPreprocess(\"data/bug reports/Birt.txt\")\n",
        "s.transform()\n",
        "s.data.head()"
      ],
      "metadata": {
        "pycharm": {
          "name": "#%%\n"
        },
        "id": "r54_hPtjWlgl",
        "outputId": "a564a8e9-2931-497b-b38a-c4a5a50711ce",
        "colab": {
          "base_uri": "https://localhost:8080/",
          "height": 374
        }
      }
    },
    {
      "cell_type": "markdown",
      "source": [
        "Source code preprocessing"
      ],
      "metadata": {
        "collapsed": false,
        "pycharm": {
          "name": "#%% md\n"
        },
        "id": "F37oRHMfWlgo"
      }
    },
    {
      "cell_type": "code",
      "execution_count": 4,
      "outputs": [
        {
          "data": {
            "application/vnd.jupyter.widget-view+json": {
              "model_id": "c1f12337e18d4fc3bff7c1e5d86699a6",
              "version_major": 2,
              "version_minor": 0
            },
            "text/plain": [
              "Pandas Apply:   0%|          | 0/9383 [00:00<?, ?it/s]"
            ]
          },
          "metadata": {},
          "output_type": "display_data"
        },
        {
          "data": {
            "application/vnd.jupyter.widget-view+json": {
              "model_id": "aeed3d609a5a4ad6ae939d579d39fb56",
              "version_major": 2,
              "version_minor": 0
            },
            "text/plain": [
              "Pandas Apply:   0%|          | 0/9383 [00:00<?, ?it/s]"
            ]
          },
          "metadata": {},
          "output_type": "display_data"
        },
        {
          "output_type": "execute_result",
          "data": {
            "text/plain": [
              "                                         all_content  \\\n",
              "0  /*********************************************...   \n",
              "1  /*********************************************...   \n",
              "2  /*********************************************...   \n",
              "3  /*********************************************...   \n",
              "4  /*********************************************...   \n",
              "\n",
              "                                            comments  \\\n",
              "0  /**\\n * Messages\\n *//**\\n\\t * \\n\\t * @return ...   \n",
              "1                        /**\\n * ReportDebugger\\n */   \n",
              "2  /**\\n * IReportLaunchConstants\\n *//**\\n\\t * R...   \n",
              "3  /**\\n * LauncherEngineConfig\\n *//**\\n\\t * con...   \n",
              "4  /**\\n * Run this class when debug the script.\\...   \n",
              "\n",
              "                    class_names  \\\n",
              "0                    [Messages]   \n",
              "1              [ReportDebugger]   \n",
              "2      [IReportLaunchConstants]   \n",
              "3        [LauncherEngineConfig]   \n",
              "4  [ReportLauncher, TaskConfig]   \n",
              "\n",
              "                                          attributes  \\\n",
              "0                     [BUNDLE_NAME, RESOURCE_BUNDLE]   \n",
              "1                                                 []   \n",
              "2  [ID_REPORT_LAUNCHER, ATTR_REPORT_FILE_NAME, AT...   \n",
              "3                                       [IMAGE_PATH]   \n",
              "4  [NULLVALUE, logger, RPTDOC_SUFFIX, RPTDOC_SUFF...   \n",
              "\n",
              "                                        method_names  \\\n",
              "0  [Messages, getResourceBundle, getResourceBundl...   \n",
              "1                                      [start, stop]   \n",
              "2                                                 []   \n",
              "3                     [LauncherEngineConfig, getURL]   \n",
              "4  [setTaskConfig, setEngineType, getEngine, Repo...   \n",
              "\n",
              "                                           variables  \\\n",
              "0                                                 []   \n",
              "1                                    [appArgs, args]   \n",
              "2                                                 []   \n",
              "3                                    [emitterConfig]   \n",
              "4  [str, str, str, runnable, list, propertys, ito...   \n",
              "\n",
              "                                       relative_path  \\\n",
              "0  data/source files/birt-20140211-1400/UI/org.ec...   \n",
              "1  data/source files/birt-20140211-1400/UI/org.ec...   \n",
              "2  data/source files/birt-20140211-1400/UI/org.ec...   \n",
              "3  data/source files/birt-20140211-1400/UI/org.ec...   \n",
              "4  data/source files/birt-20140211-1400/UI/org.ec...   \n",
              "\n",
              "                                        package_name  \n",
              "0            org.eclipse.birt.report.debug.core.i18n  \n",
              "1        org.eclipse.birt.report.debug.internal.core  \n",
              "2  org.eclipse.birt.report.debug.internal.core.la...  \n",
              "3  org.eclipse.birt.report.debug.internal.core.la...  \n",
              "4  org.eclipse.birt.report.debug.internal.core.la...  "
            ],
            "text/html": [
              "\n",
              "  <div id=\"df-e31d297d-7dd9-417d-8d44-f49dc75ba84f\">\n",
              "    <div class=\"colab-df-container\">\n",
              "      <div>\n",
              "<style scoped>\n",
              "    .dataframe tbody tr th:only-of-type {\n",
              "        vertical-align: middle;\n",
              "    }\n",
              "\n",
              "    .dataframe tbody tr th {\n",
              "        vertical-align: top;\n",
              "    }\n",
              "\n",
              "    .dataframe thead th {\n",
              "        text-align: right;\n",
              "    }\n",
              "</style>\n",
              "<table border=\"1\" class=\"dataframe\">\n",
              "  <thead>\n",
              "    <tr style=\"text-align: right;\">\n",
              "      <th></th>\n",
              "      <th>all_content</th>\n",
              "      <th>comments</th>\n",
              "      <th>class_names</th>\n",
              "      <th>attributes</th>\n",
              "      <th>method_names</th>\n",
              "      <th>variables</th>\n",
              "      <th>relative_path</th>\n",
              "      <th>package_name</th>\n",
              "    </tr>\n",
              "  </thead>\n",
              "  <tbody>\n",
              "    <tr>\n",
              "      <th>0</th>\n",
              "      <td>/*********************************************...</td>\n",
              "      <td>/**\\n * Messages\\n *//**\\n\\t * \\n\\t * @return ...</td>\n",
              "      <td>[Messages]</td>\n",
              "      <td>[BUNDLE_NAME, RESOURCE_BUNDLE]</td>\n",
              "      <td>[Messages, getResourceBundle, getResourceBundl...</td>\n",
              "      <td>[]</td>\n",
              "      <td>data/source files/birt-20140211-1400/UI/org.ec...</td>\n",
              "      <td>org.eclipse.birt.report.debug.core.i18n</td>\n",
              "    </tr>\n",
              "    <tr>\n",
              "      <th>1</th>\n",
              "      <td>/*********************************************...</td>\n",
              "      <td>/**\\n * ReportDebugger\\n */</td>\n",
              "      <td>[ReportDebugger]</td>\n",
              "      <td>[]</td>\n",
              "      <td>[start, stop]</td>\n",
              "      <td>[appArgs, args]</td>\n",
              "      <td>data/source files/birt-20140211-1400/UI/org.ec...</td>\n",
              "      <td>org.eclipse.birt.report.debug.internal.core</td>\n",
              "    </tr>\n",
              "    <tr>\n",
              "      <th>2</th>\n",
              "      <td>/*********************************************...</td>\n",
              "      <td>/**\\n * IReportLaunchConstants\\n *//**\\n\\t * R...</td>\n",
              "      <td>[IReportLaunchConstants]</td>\n",
              "      <td>[ID_REPORT_LAUNCHER, ATTR_REPORT_FILE_NAME, AT...</td>\n",
              "      <td>[]</td>\n",
              "      <td>[]</td>\n",
              "      <td>data/source files/birt-20140211-1400/UI/org.ec...</td>\n",
              "      <td>org.eclipse.birt.report.debug.internal.core.la...</td>\n",
              "    </tr>\n",
              "    <tr>\n",
              "      <th>3</th>\n",
              "      <td>/*********************************************...</td>\n",
              "      <td>/**\\n * LauncherEngineConfig\\n *//**\\n\\t * con...</td>\n",
              "      <td>[LauncherEngineConfig]</td>\n",
              "      <td>[IMAGE_PATH]</td>\n",
              "      <td>[LauncherEngineConfig, getURL]</td>\n",
              "      <td>[emitterConfig]</td>\n",
              "      <td>data/source files/birt-20140211-1400/UI/org.ec...</td>\n",
              "      <td>org.eclipse.birt.report.debug.internal.core.la...</td>\n",
              "    </tr>\n",
              "    <tr>\n",
              "      <th>4</th>\n",
              "      <td>/*********************************************...</td>\n",
              "      <td>/**\\n * Run this class when debug the script.\\...</td>\n",
              "      <td>[ReportLauncher, TaskConfig]</td>\n",
              "      <td>[NULLVALUE, logger, RPTDOC_SUFFIX, RPTDOC_SUFF...</td>\n",
              "      <td>[setTaskConfig, setEngineType, getEngine, Repo...</td>\n",
              "      <td>[str, str, str, runnable, list, propertys, ito...</td>\n",
              "      <td>data/source files/birt-20140211-1400/UI/org.ec...</td>\n",
              "      <td>org.eclipse.birt.report.debug.internal.core.la...</td>\n",
              "    </tr>\n",
              "  </tbody>\n",
              "</table>\n",
              "</div>\n",
              "      <button class=\"colab-df-convert\" onclick=\"convertToInteractive('df-e31d297d-7dd9-417d-8d44-f49dc75ba84f')\"\n",
              "              title=\"Convert this dataframe to an interactive table.\"\n",
              "              style=\"display:none;\">\n",
              "        \n",
              "  <svg xmlns=\"http://www.w3.org/2000/svg\" height=\"24px\"viewBox=\"0 0 24 24\"\n",
              "       width=\"24px\">\n",
              "    <path d=\"M0 0h24v24H0V0z\" fill=\"none\"/>\n",
              "    <path d=\"M18.56 5.44l.94 2.06.94-2.06 2.06-.94-2.06-.94-.94-2.06-.94 2.06-2.06.94zm-11 1L8.5 8.5l.94-2.06 2.06-.94-2.06-.94L8.5 2.5l-.94 2.06-2.06.94zm10 10l.94 2.06.94-2.06 2.06-.94-2.06-.94-.94-2.06-.94 2.06-2.06.94z\"/><path d=\"M17.41 7.96l-1.37-1.37c-.4-.4-.92-.59-1.43-.59-.52 0-1.04.2-1.43.59L10.3 9.45l-7.72 7.72c-.78.78-.78 2.05 0 2.83L4 21.41c.39.39.9.59 1.41.59.51 0 1.02-.2 1.41-.59l7.78-7.78 2.81-2.81c.8-.78.8-2.07 0-2.86zM5.41 20L4 18.59l7.72-7.72 1.47 1.35L5.41 20z\"/>\n",
              "  </svg>\n",
              "      </button>\n",
              "      \n",
              "  <style>\n",
              "    .colab-df-container {\n",
              "      display:flex;\n",
              "      flex-wrap:wrap;\n",
              "      gap: 12px;\n",
              "    }\n",
              "\n",
              "    .colab-df-convert {\n",
              "      background-color: #E8F0FE;\n",
              "      border: none;\n",
              "      border-radius: 50%;\n",
              "      cursor: pointer;\n",
              "      display: none;\n",
              "      fill: #1967D2;\n",
              "      height: 32px;\n",
              "      padding: 0 0 0 0;\n",
              "      width: 32px;\n",
              "    }\n",
              "\n",
              "    .colab-df-convert:hover {\n",
              "      background-color: #E2EBFA;\n",
              "      box-shadow: 0px 1px 2px rgba(60, 64, 67, 0.3), 0px 1px 3px 1px rgba(60, 64, 67, 0.15);\n",
              "      fill: #174EA6;\n",
              "    }\n",
              "\n",
              "    [theme=dark] .colab-df-convert {\n",
              "      background-color: #3B4455;\n",
              "      fill: #D2E3FC;\n",
              "    }\n",
              "\n",
              "    [theme=dark] .colab-df-convert:hover {\n",
              "      background-color: #434B5C;\n",
              "      box-shadow: 0px 1px 3px 1px rgba(0, 0, 0, 0.15);\n",
              "      filter: drop-shadow(0px 1px 2px rgba(0, 0, 0, 0.3));\n",
              "      fill: #FFFFFF;\n",
              "    }\n",
              "  </style>\n",
              "\n",
              "      <script>\n",
              "        const buttonEl =\n",
              "          document.querySelector('#df-e31d297d-7dd9-417d-8d44-f49dc75ba84f button.colab-df-convert');\n",
              "        buttonEl.style.display =\n",
              "          google.colab.kernel.accessAllowed ? 'block' : 'none';\n",
              "\n",
              "        async function convertToInteractive(key) {\n",
              "          const element = document.querySelector('#df-e31d297d-7dd9-417d-8d44-f49dc75ba84f');\n",
              "          const dataTable =\n",
              "            await google.colab.kernel.invokeFunction('convertToInteractive',\n",
              "                                                     [key], {});\n",
              "          if (!dataTable) return;\n",
              "\n",
              "          const docLinkHtml = 'Like what you see? Visit the ' +\n",
              "            '<a target=\"_blank\" href=https://colab.research.google.com/notebooks/data_table.ipynb>data table notebook</a>'\n",
              "            + ' to learn more about interactive tables.';\n",
              "          element.innerHTML = '';\n",
              "          dataTable['output_type'] = 'display_data';\n",
              "          await google.colab.output.renderOutput(dataTable, element);\n",
              "          const docLink = document.createElement('div');\n",
              "          docLink.innerHTML = docLinkHtml;\n",
              "          element.appendChild(docLink);\n",
              "        }\n",
              "      </script>\n",
              "    </div>\n",
              "  </div>\n",
              "  "
            ]
          },
          "metadata": {},
          "execution_count": 4
        }
      ],
      "source": [
        "from preprocessing.preprocessing import SourceFilesPreprocess\n",
        "s = SourceFilesPreprocess(\"data/source files/birt-20140211-1400\")\n",
        "s.transform()\n",
        "s.data.head()"
      ],
      "metadata": {
        "pycharm": {
          "name": "#%%\n"
        },
        "id": "u5cFr18IWlgo",
        "outputId": "c6a7f3db-3e8e-4b2c-d9d6-111d3f89252d",
        "colab": {
          "base_uri": "https://localhost:8080/",
          "height": 595,
          "referenced_widgets": [
            "c1f12337e18d4fc3bff7c1e5d86699a6",
            "e376cebf510e466ea05a7e89a3a41f94",
            "9c97f6067c82460b92a20dd5b3a49eb7",
            "98dba68092234e1f9b7ea0fa1c08f000",
            "195559608b2d4a92bc48f1fd8c48b6b4",
            "3dc1ca89bc8a4d209e14d1cd940ce2f0",
            "459d510d5dd64e5683bd642da1c54606",
            "c8f9604dfc2d42dea590a26bbba0c835",
            "f9fe60ac3c984e9e8f0bac1990f71906",
            "a00a678f4b9d461cae6a308c2b64e019",
            "f672f6e57319424b9102a3106cf36581",
            "aeed3d609a5a4ad6ae939d579d39fb56",
            "319ae39060004d26a52be35cfe29e8f6",
            "477d829661c840d382a8424029119280",
            "a9e001de6336417b8f3607cfbe1f4dff",
            "107aa7308faf4fb8971a7af62bfd72bb",
            "8aba0cf1bf3d4fe2921ea2d55046974c",
            "1f583ce265a34fd2856508bebd66d8a5",
            "205179b7a0494b318b9e12e3fefd5296",
            "cb38e6a6693f4865b8db700a6b3b2849",
            "4591bf464f1f41b8b728eea0eaaa96b5",
            "5bce31c552b1493c8ecdf63556a180b7"
          ]
        }
      }
    },
    {
      "cell_type": "code",
      "execution_count": 9,
      "outputs": [
        {
          "output_type": "stream",
          "name": "stdout",
          "text": [
            "/*******************************************************************************\n",
            " * Copyright (c) 2004 Actuate Corporation.\n",
            " * All rights reserved. This program and the accompanying materials\n",
            " * are made available under the terms of the Eclipse Public License v1.0\n",
            " * which accompanies this distribution, and is available at\n",
            " * http://www.eclipse.org/legal/epl-v10.html\n",
            " *\n",
            " * Contributors:\n",
            " *  Actuate Corporation  - initial API and implementation\n",
            " *******************************************************************************/\n",
            "\n",
            "package org.eclipse.birt.report.debug.internal.core.launcher;\n",
            "\n",
            "/**\n",
            " * IReportLaunchConstants\n",
            " */\n",
            "public interface IReportLaunchConstants\n",
            "{\n",
            "\n",
            "\t/**\n",
            "\t * Report launcher ID\n",
            "\t */\n",
            "\tString ID_REPORT_LAUNCHER = \"org.eclipse.birt.report.debug.core.launcher\"; //$NON-NLS-1$\n",
            "\n",
            "\t/**\n",
            "\t * report file key\n",
            "\t */\n",
            "\tString ATTR_REPORT_FILE_NAME = \"report.file.name\"; //$NON-NLS-1$\n",
            "\n",
            "\t/**\n",
            "\t * Temp folder key\n",
            "\t */\n",
            "\tString ATTR_TEMP_FOLDER = \"temp.folder\"; //$NON-NLS-1$\n",
            "\n",
            "\t/**\n",
            "\t * Engine home key\n",
            "\t */\n",
            "\tString ATTR_ENGINE_HOME = \"engine.home\"; //$NON-NLS-1$\n",
            "\n",
            "\t/**\n",
            "\t * Engine task type key\n",
            "\t */\n",
            "\tString ATTR_TASK_TYPE = \"engine.task.type\"; //$NON-NLS-1$\n",
            "\n",
            "\t/**\n",
            "\t * Debug type key\n",
            "\t */\n",
            "\tString ATTR_DEBUG_TYPE = \"engine.debug.type\"; //$NON-NLS-1$\n",
            "\n",
            "\t/**\n",
            "\t * Engine target format key\n",
            "\t */\n",
            "\tString ATTR_TARGET_FORMAT = \"engine.target.format\"; //$NON-NLS-1$\n",
            "\n",
            "\t/**\n",
            "\t * Open target file key\n",
            "\t */\n",
            "\tString ATTR_OPEN_TARGET = \"open.target.file\"; //$NON-NLS-1$\n",
            "\n",
            "\t/**\n",
            "\t * Default eclipse home key\n",
            "\t */\n",
            "\tString ATTR_USE_DEFULT_ENGINE_HOME = \"use.default.engine.home\"; //$NON-NLS-1$\n",
            "\t\n",
            "\t/**\n",
            "\t * Resource folder\n",
            "\t */\n",
            "\tString ATTR_RESOURCE_FOLDER = \"use.resource.folder\"; //$NON-NLS-1$\n",
            "\n",
            "\t/**\n",
            "\t * User class path key\n",
            "\t */\n",
            "\tString ATTR_USER_CLASS_PATH = \"report.user.class.path\"; //$NON-NLS-1$\n",
            "\n",
            "\t/**\n",
            "\t * Class path key\n",
            "\t */\n",
            "\tString ATTR_CLASSPATH = ID_REPORT_LAUNCHER + \".CLASSPATH\"; //$NON-NLS-1$\n",
            "\n",
            "\t/**\n",
            "\t * Request port key\n",
            "\t */\n",
            "\tString ATTR_LISTEN_PORT = \"report.listen.port\"; //$NON-NLS-1$\n",
            "\n",
            "\t/**\n",
            "\t * Parameter name key\n",
            "\t */\n",
            "\tString ATTR_PARAMRTER = \"param:\"; //$NON-NLS-1$\n",
            "\t\n",
            "\tString ATTR_MULPARAMRTER = \"mulparam:\"; //$NON-NLS-1$\n",
            "\t\n",
            "\n",
            "\t/**\n",
            "\t * Debug type for java classes.\n",
            "\t */\n",
            "\tint DEBUG_TYPE_JAVA_CLASS = 1;\n",
            "\n",
            "\t/**\n",
            "\t * Debug type for java scripts.\n",
            "\t */\n",
            "\tint DEBUG_TYPE_JAVA_SCRIPT = 2;\n",
            "\n",
            "\t/**\n",
            "\t * Debug type for java classes.\n",
            "\t */\n",
            "\tint DEBUG_TYPE_ALL = DEBUG_TYPE_JAVA_CLASS | DEBUG_TYPE_JAVA_SCRIPT;\n",
            "\n",
            "\t/**\n",
            "\t * Task type for run.\n",
            "\t */\n",
            "\tint TASK_TYPE_RUN = 1;\n",
            "\n",
            "\t/**\n",
            "\t * Task type for render.\n",
            "\t */\n",
            "\tint TASK_TYPE_RENDER = 2;\n",
            "\n",
            "\t/**\n",
            "\t * Task type for run then render.\n",
            "\t */\n",
            "\tint TASK_TYPE_RUN_PLUS_RENDER = TASK_TYPE_RUN | TASK_TYPE_RENDER;\n",
            "\n",
            "\t/**\n",
            "\t * Task type for run and render.\n",
            "\t */\n",
            "\tint TASK_TYPE_RUN_AND_RENDER = 4;\n",
            "\n",
            "\tint EXIT_OK = 1;\n",
            "\n",
            "\tint EXIT_FAIL = -1;\n",
            "\n",
            "\tString DEFAULT_TARGET_FORMAT = \"html\"; //$NON-NLS-1$\n",
            "\n",
            "\tint DEFAULT_DEBUG_TYPE = DEBUG_TYPE_JAVA_SCRIPT;\n",
            "\n",
            "\tint DEFAULT_TASK_TYPE = TASK_TYPE_RUN_AND_RENDER;\n",
            "\n",
            "}\n",
            "\n",
            "________________Comment____________________\n",
            "/**\n",
            " * IReportLaunchConstants\n",
            " *//**\n",
            "\t * Report launcher ID\n",
            "\t *//**\n",
            "\t * report file key\n",
            "\t *//**\n",
            "\t * Temp folder key\n",
            "\t *//**\n",
            "\t * Engine home key\n",
            "\t *//**\n",
            "\t * Engine task type key\n",
            "\t *//**\n",
            "\t * Debug type key\n",
            "\t *//**\n",
            "\t * Engine target format key\n",
            "\t *//**\n",
            "\t * Open target file key\n",
            "\t *//**\n",
            "\t * Default eclipse home key\n",
            "\t *//**\n",
            "\t * Resource folder\n",
            "\t *//**\n",
            "\t * User class path key\n",
            "\t *//**\n",
            "\t * Class path key\n",
            "\t *//**\n",
            "\t * Request port key\n",
            "\t *//**\n",
            "\t * Parameter name key\n",
            "\t *//**\n",
            "\t * Debug type for java classes.\n",
            "\t *//**\n",
            "\t * Debug type for java scripts.\n",
            "\t *//**\n",
            "\t * Debug type for java classes.\n",
            "\t *//**\n",
            "\t * Task type for run.\n",
            "\t *//**\n",
            "\t * Task type for render.\n",
            "\t *//**\n",
            "\t * Task type for run then render.\n",
            "\t *//**\n",
            "\t * Task type for run and render.\n",
            "\t */\n",
            "________________\n",
            "org.eclipse.birt.report.debug.internal.core.launcher\n"
          ]
        }
      ],
      "source": [
        "i = 2\n",
        "print(s.data.iloc[i].all_content)\n",
        "print(\"________________Comment____________________\")\n",
        "print(s.data.iloc[i].comments)\n",
        "print(\"________________\")\n",
        "print(s.data.iloc[i].package_name)\n"
      ],
      "metadata": {
        "pycharm": {
          "name": "#%%\n"
        },
        "id": "7eSF2V-7Wlgp",
        "outputId": "3204eec4-e466-4aea-ffbc-cfb68e555103",
        "colab": {
          "base_uri": "https://localhost:8080/"
        }
      }
    },
    {
      "cell_type": "code",
      "execution_count": null,
      "metadata": {
        "id": "xYR5e7kn-a8g",
        "pycharm": {
          "name": "#%%\n"
        }
      },
      "outputs": [],
      "source": [
        "import os\n",
        "!pip install javalang\n",
        "import javalang\n",
        "import pathlib as pl\n",
        "import pandas as pd\n",
        "import re\n",
        "from sklearn.feature_extraction.text import CountVectorizer\n",
        "import numpy as np\n",
        "from sklearn.feature_extraction.text import TfidfVectorizer\n",
        "from tqdm import tqdm\n",
        "import traceback"
      ]
    },
    {
      "cell_type": "markdown",
      "metadata": {
        "id": "dybkWOCiDAzF",
        "pycharm": {
          "name": "#%% md\n"
        }
      },
      "source": [
        "Get all source file from project"
      ]
    },
    {
      "cell_type": "code",
      "execution_count": null,
      "metadata": {
        "id": "hfPG3r9Eia7z",
        "pycharm": {
          "name": "#%%\n"
        }
      },
      "outputs": [],
      "source": [
        "def get_all_source(root):\n",
        "    all_source_path = []\n",
        "    for path, subdirs, files in os.walk(root):\n",
        "        for name in files:\n",
        "            #just source file\n",
        "            if name[-5:] == '.java':\n",
        "                all_source_path.append(str(pl.PurePath(path, name)))\n",
        "    return sorted(all_source_path)\n",
        "\n",
        "# src_dir =  \"/content/unzip_source/\"+ next(iter(sorted(os.listdir('./unzip_source'))))\n",
        "src_dir =  \"data/birt-20140211-1400/\"\n",
        "\n",
        "\n",
        "all_src_path = get_all_source(src_dir)"
      ]
    },
    {
      "cell_type": "code",
      "execution_count": null,
      "metadata": {
        "id": "AYYg6lIStqPS",
        "pycharm": {
          "name": "#%%\n"
        }
      },
      "outputs": [],
      "source": [
        "def print_long_list(tokens, limit = 'all'):\n",
        "    if limit == 'all':\n",
        "        start = 0\n",
        "        limit = len(tokens)\n",
        "    else:\n",
        "        start, limit = limit\n",
        "    for i in range(start, limit, 10):\n",
        "        for k in range(i, i+10):\n",
        "            if k == limit:\n",
        "                break\n",
        "            print(tokens[k],end=\"\\t\")\n",
        "            # print(\"\\t\")\n",
        "        print(\"\\n\")\n",
        "\n",
        "def get_content(file_path):\n",
        "    with open(file_path, 'rb') as f:\n",
        "        text = f.read().decode(errors='replace')\n",
        "        return text.replace('\\ufffd',\"\")\n",
        "\n",
        "def get_ast(file_path, print_result = False):\n",
        "    with open(file_path) as f:\n",
        "        tree = javalang.parse.parse(f.read())\n",
        "    if print_result:\n",
        "        for path, node in tree:\n",
        "            # print(path)\n",
        "            print(node)\n",
        "    return tree\n",
        "\n",
        "def get_token(string, print_result = False, ignore_error= True):\n",
        "    tokens = javalang.tokenizer.tokenize(string, ignore_errors=ignore_error)\n",
        "    tokens = [t.value for t in tokens]\n",
        "\n",
        "    if print_result:\n",
        "        print_long_list(tokens)\n",
        "\n",
        "    return tokens"
      ]
    },
    {
      "cell_type": "markdown",
      "metadata": {
        "id": "Hl5OFkDPr_A5",
        "pycharm": {
          "name": "#%% md\n"
        }
      },
      "source": [
        "## Source code cleaning\n",
        "Abandon Number?\n",
        "like `name.substring( index + 1 );`\n",
        "\n",
        "or \n",
        "\n",
        "`NumberDataSetImpl.create( new double[]{143.26, 47.56, 35.8, 0, 95.25, 0, 123.45} );`\n"
      ]
    },
    {
      "cell_type": "code",
      "source": [
        "import re\n",
        "s = ['camelCase','PascalCase','snake_case']\n",
        "for t in s:\n",
        "    print(re.sub( r\"([A-Z\\d]*[a-z\\d]*)\", r\" \\1\", t).split())\n"
      ],
      "metadata": {
        "id": "Q3pGCF-R_piy",
        "outputId": "4376ae21-a2ca-4aa2-aaea-3e67fb58a8e9",
        "colab": {
          "base_uri": "https://localhost:8080/"
        }
      },
      "execution_count": 14,
      "outputs": [
        {
          "output_type": "stream",
          "name": "stdout",
          "text": [
            "['camel', 'Case']\n",
            "['Pascal', 'Case']\n",
            "['snake', '_', 'case']\n"
          ]
        }
      ]
    },
    {
      "cell_type": "code",
      "execution_count": null,
      "metadata": {
        "id": "QNcfZ8F6V2Vc",
        "pycharm": {
          "name": "#%%\n"
        }
      },
      "outputs": [],
      "source": [
        "#wiki/java_syntax\n",
        "\n",
        "stop_word = \"\"\"abstract\tcontinue\tfor\tnew\tswitch\n",
        "assert default\tgoto\tpackage\tsynchronized\n",
        "boolean\tdo\tif\tprivate\tthis \n",
        "break\tdouble\timplements\tprotected\tthrow\n",
        "byte\telse\timport\tpublic\tthrows\n",
        "case\tenum instanceof\treturn\ttransient\n",
        "catch\textends\tint\tshort\ttry\n",
        "char\tfinal\tinterface\tstatic\tvoid\n",
        "class\tfinally\tlong\tstrictfp\tvolatile\n",
        "const\tfloat\tnative\tsuper\twhile\"\"\"\n",
        "black_list = [i+\"[\\s.:;\\n\\t]\" for i in stop_word.split()]\n",
        "black_list.append('\\/\\/.+\\n') # comment // in java\n",
        "black_list.append('0x[\\w\\d]+') # hex 0x00000\n",
        "black_list.append('<[\\w/!\\-.]+>') # html tag <\\>\n",
        "black_list.append('\\\".+\\\"') # string \"...\"\n",
        "black_list.append('[\"#(\\[{\\s.:;,\\n\\t]-?[\\dabcdef]+[\"dDfFLleE\\s.,:;\\n\\t})\\]]|[\\s.,:;\\n\\t]\\d+$|^\\d+[\\s.,:;\\n\\t]') # number\n",
        "black_list.append(';[\\d;]+') # number sequence\n",
        "\n",
        "punc = \"\"\"\n",
        "( )\t [ ]\t ++ -- + - ! ~ * / % << >> >>>\t < <= > >= instanceof\t == !=\t & ^ |\t &&\n",
        "|| ? : =\t += -=\t *= /= %=\t <<= >>= >>>=\t &= ^= |= ; { }  ,  . \" \\\\ # ` @\n",
        "\"\"\"\n",
        "punc_list = punc.split()\n",
        "\n",
        "def clean_source(string, black_list = black_list, punc_list = punc_list):\n",
        "    for k in black_list:\n",
        "        string = re.sub(k, \";\", string)\n",
        "    for p in punc_list:\n",
        "        string = string.replace(p, \" \")\n",
        "    string = string.replace(\"'\", \"\")\n",
        "\n",
        "    return string"
      ]
    },
    {
      "cell_type": "code",
      "execution_count": null,
      "metadata": {
        "id": "_nmegQ3MjzcP",
        "pycharm": {
          "name": "#%%\n"
        }
      },
      "outputs": [],
      "source": [
        "for i,f in enumerate(all_src_path):\n",
        "    if \"142948and141927\" in get_content(f):\n",
        "        print(f)\n",
        "        print(i)\n",
        "        break\n",
        "# i = 7968\n",
        "content = get_content(all_src_path[i])\n",
        "print(content)\n",
        "# print(\"-----------------------Cleaned------------------------\")\n",
        "print(clean_source(content))\n",
        "# print(\"----------------------Tokenize------------------------\")\n",
        "# print(get_token(clean_source(content),print_result = True))"
      ]
    },
    {
      "cell_type": "markdown",
      "metadata": {
        "id": "wDnAIhTIBTHv",
        "pycharm": {
          "name": "#%% md\n"
        }
      },
      "source": [
        "## Bug report cleaning"
      ]
    },
    {
      "cell_type": "markdown",
      "metadata": {
        "id": "JLFKdlGQ_vxE",
        "pycharm": {
          "name": "#%% md\n"
        }
      },
      "source": [
        "Import bug report to dataframe"
      ]
    },
    {
      "cell_type": "code",
      "execution_count": null,
      "metadata": {
        "id": "ucbrxmB6iIDP",
        "pycharm": {
          "name": "#%%\n"
        }
      },
      "outputs": [],
      "source": [
        "bugrep_file = \"data/bug reports/Birt.xlsx\"\n",
        "bug_rp_df = pd.read_excel(bugrep_file)\n",
        "bug_rp_df"
      ]
    },
    {
      "cell_type": "code",
      "execution_count": null,
      "metadata": {
        "id": "ceIcwxduBVF1",
        "pycharm": {
          "name": "#%%\n"
        }
      },
      "outputs": [],
      "source": [
        "#test\n",
        "i = 69\n",
        "cleaned_summary = bug_rp_df['summary'].str.extract(r'Bug[ \\d]+(.+)',expand = False)\n",
        "print(cleaned_summary.iloc[i])\n",
        "print(bug_rp_df['description'].iloc[i])\n",
        "s = cleaned_summary + \". \" + bug_rp_df['description'].fillna(\"\")\n",
        "s.str.lower().tolist()[i]"
      ]
    },
    {
      "cell_type": "markdown",
      "metadata": {
        "id": "or2-z9P6WaqB",
        "pycharm": {
          "name": "#%% md\n"
        }
      },
      "source": [
        "## Feature 1: TF-IDF\n"
      ]
    },
    {
      "cell_type": "markdown",
      "metadata": {
        "id": "afAlLNd3pLyD",
        "pycharm": {
          "name": "#%% md\n"
        }
      },
      "source": [
        "Haven't done yet: *Compound words such as “WorkBench” are split into their components based on capital letters*"
      ]
    },
    {
      "cell_type": "code",
      "execution_count": null,
      "metadata": {
        "id": "BC09SvkeWaNM",
        "pycharm": {
          "name": "#%%\n"
        }
      },
      "outputs": [],
      "source": [
        "def vocab_construct(src_files = all_src_path):\n",
        "    \"Construct vocab from all source files\"\n",
        "    tokens = []\n",
        "    for f in src_files:\n",
        "        token = np.unique(get_token(clean_source(get_content(f))))\n",
        "        tokens.extend(token)\n",
        "    tokens = np.unique(tokens)\n",
        "    #clean token, remove all cmt\n",
        "    tokens = clean_source('  '.join(tokens)).split()\n",
        "    # print(tokens)\n",
        "\n",
        "    # enrich vocab by split into their components based on capital letters\n",
        "    new = []\n",
        "    # for t in tokens:\n",
        "    #     new.extend(re.sub( r\"([A-Z\\d]*[a-z\\d]*)\", r\" \\1\", t).split())\n",
        "    return np.unique([i.lower() for i in np.append(tokens, new)])\n",
        "\n",
        "def tf_idf(vocab, docs):\n",
        "    \"\"\"matrix of weight of each terms in vocab to each document\"\"\"\n",
        "    tidf = TfidfVectorizer(vocabulary = vocab)\n",
        "    X = tidf.fit_transform(docs)\n",
        "    del tidf\n",
        "    return X.toarray()"
      ]
    },
    {
      "cell_type": "code",
      "execution_count": null,
      "metadata": {
        "id": "fabZxvcZPkfc",
        "pycharm": {
          "name": "#%%\n"
        }
      },
      "outputs": [],
      "source": [
        "vocab = vocab_construct()\n",
        "# no_number_vocab = np.unique(clean_source('  '.join(vocab)).split())"
      ]
    },
    {
      "cell_type": "markdown",
      "metadata": {
        "id": "9T0YtCwxwz9s",
        "pycharm": {
          "name": "#%% md\n"
        }
      },
      "source": [
        "### Porter stemmer\n",
        "Finally, all words are reduced to\n",
        "their stem using the Porter stemmer, as implemented in the\n",
        "NLTK1 package. This process will reduce derivationally related words such as “programming” and “programs” to the\n",
        "same stem “program”, which is known to have a positive\n",
        "impact on the recall performance of the final system"
      ]
    },
    {
      "cell_type": "code",
      "execution_count": null,
      "metadata": {
        "id": "FSwhdAv2w1YU",
        "pycharm": {
          "name": "#%%\n"
        }
      },
      "outputs": [],
      "source": [
        "from nltk.stem.porter import *\n",
        "stemmer = PorterStemmer()\n",
        "# plurals = ['caresses', 'flies', 'dies', 'mules', 'denied', \n",
        "#            'died', 'agreed', 'owned', 'humbled', 'sized', \n",
        "#            'meeting', 'stating', 'siezing', 'itemization', \n",
        "#            'sensational', 'traditional', 'reference', 'colonizer', 'plotted']\n",
        "single_vocab = [stemmer.stem(plural) for plural in vocab]\n",
        "single_vocab = np.unique(single_vocab)"
      ]
    },
    {
      "cell_type": "code",
      "execution_count": null,
      "metadata": {
        "id": "9y2riR3M7hj6",
        "pycharm": {
          "name": "#%%\n"
        }
      },
      "outputs": [],
      "source": [
        "print(len(vocab))\n",
        "print(len(single_vocab))"
      ]
    },
    {
      "cell_type": "code",
      "execution_count": null,
      "metadata": {
        "id": "ffPx0C_em3sV",
        "pycharm": {
          "name": "#%%\n"
        }
      },
      "outputs": [],
      "source": [
        "print_long_list(single_vocab, limit = (0,20000))"
      ]
    },
    {
      "cell_type": "markdown",
      "metadata": {
        "id": "VVfFU5Adk0GS",
        "pycharm": {
          "name": "#%% md\n"
        }
      },
      "source": [
        "$V$: vocab\n",
        "\n",
        "$r_i = [w_{t,r_i}|t ∈ V ]$\n",
        "\n",
        "$s_i = [w_{t,s_i}|t ∈ V ]$\n",
        "\n",
        "all_wr = [**r1**, **r2**, **r3**,...]\n",
        "\n",
        "all_ws = [**s1**, **s2**, **s3**,...]"
      ]
    },
    {
      "cell_type": "code",
      "execution_count": null,
      "metadata": {
        "id": "mZ7MLoYxkpw5",
        "pycharm": {
          "name": "#%%\n"
        }
      },
      "outputs": [],
      "source": [
        "from sklearn.metrics.pairwise import linear_kernel\n",
        "all_ws = tf_idf(single_vocab, [get_content(f) for f in all_src_path])\n",
        "all_wr = tf_idf(single_vocab, get_content_bug_rp(bug_rp_df))\n",
        "feature_1 = linear_kernel(all_wr, all_ws, dense_output=False)\n",
        "del all_ws\n",
        "del all_wr"
      ]
    },
    {
      "cell_type": "markdown",
      "metadata": {
        "id": "ZxfkG6wg7Ty8",
        "pycharm": {
          "name": "#%% md\n"
        }
      },
      "source": [
        "## Feature 2, 3, 4, 5\n",
        "\n"
      ]
    },
    {
      "cell_type": "markdown",
      "metadata": {
        "id": "G4P2NHMLElaW",
        "pycharm": {
          "name": "#%% md\n"
        }
      },
      "source": [
        "### Feature 2: Collaborative filtering\n",
        "Given a bug report r and a source code file s, let\n",
        "$br(r, s)$ be the set of bug reports for which file s was fixed before r was reported.\n",
        "\n",
        "The feature computes the textual similarity between the text\n",
        "of the current bug report r and the summaries of all the bug\n",
        "reports in $br(r, s)$.\n",
        "$$ϕ_2(r, s) = sim(r, br(r, s))$$"
      ]
    },
    {
      "cell_type": "code",
      "source": [
        "#compute feature 2 for all s,r\n"
      ],
      "metadata": {
        "id": "Ag63NIPR1Hwd",
        "pycharm": {
          "name": "#%%\n"
        }
      },
      "execution_count": null,
      "outputs": []
    },
    {
      "cell_type": "code",
      "execution_count": null,
      "metadata": {
        "id": "Czzqiv9grwnV",
        "pycharm": {
          "name": "#%%\n"
        }
      },
      "outputs": [],
      "source": [
        "def compute_feature_2(bug_index, src_index, bug_content, bbr_df,\n",
        "                      all_src_path = all_src_path):\n",
        "    br_content = \" \".join(get_content_bug_rp(bbr_df))\n",
        "    if not br_content.strip():\n",
        "        return 0\n",
        "    wbr = tf_idf(single_vocab, [br_content,bug_content[bug_index]])\n",
        "    # wr = tf_idf(single_vocab, [bug_content[bug_index]])\n",
        "    return float(linear_kernel(wbr[0].reshape(1,-1), wbr[1].reshape(1,-1)).squeeze())"
      ]
    },
    {
      "cell_type": "code",
      "execution_count": null,
      "metadata": {
        "id": "lmwC99tgkmMg",
        "pycharm": {
          "name": "#%%\n"
        }
      },
      "outputs": [],
      "source": [
        "# # test feature 2\n",
        "# a = np.array([[1,2,3],[3,5,7]])\n",
        "# # print(a*b.T)\n",
        "# float(linear_kernel(a[0].reshape(1,-1),a[1].reshape(1,-1)).squeeze())\n",
        "\n",
        "x = 12\n",
        "y = 2532\n",
        "bbr = get_before_bug_df(x,y)\n",
        "bug_content = get_content_bug_rp(bug_df)\n",
        "compute_feature_2(12,2532,bug_content, bbr)"
      ]
    },
    {
      "cell_type": "markdown",
      "metadata": {
        "id": "IfL66g2UESyp",
        "pycharm": {
          "name": "#%% md\n"
        }
      },
      "source": [
        "### Feature 3: Class Name Similarity\n",
        "$$ϕ_3(r, s) = \\begin{cases}\n",
        "|s.class| & \\text{if } s.class ∈ r \\\\\n",
        "0 & \\text{otherwise}\n",
        "\\end{cases}$$\n",
        "$s.class$ denote the name of the main class implemented\n",
        "in source file $s$, and $|s.class|$ the name length."
      ]
    },
    {
      "cell_type": "code",
      "execution_count": null,
      "metadata": {
        "id": "w6GNlxOj7QiL",
        "pycharm": {
          "name": "#%%\n"
        }
      },
      "outputs": [],
      "source": [
        "# Feature 3\n",
        "def get_class_name(f):\n",
        "    for i in range(len(f)-1,-1,-1):\n",
        "        if f[i] == \"/\":\n",
        "            return f[i+1:len(f)-5]\n",
        "\n",
        "def compute_feature_3(bug_index, src_index, bug_content,\n",
        "                      all_src_path = all_src_path):\n",
        "    # for i,(x,y) in enumerate(zip(bug_indexes, src_indexes)):\n",
        "    class_name = get_class_name(all_src_path[src_index])\n",
        "    return len(class_name) if class_name in bug_content[bug_index] else 0"
      ]
    },
    {
      "cell_type": "code",
      "execution_count": null,
      "metadata": {
        "id": "MrdU4KPL2vSG",
        "pycharm": {
          "name": "#%%\n"
        }
      },
      "outputs": [],
      "source": [
        "# test feature 3\n",
        "i = 482\n",
        "print(all_src_path[i])\n",
        "print(get_class_name(all_src_path[i]))"
      ]
    },
    {
      "cell_type": "markdown",
      "metadata": {
        "id": "DvvJypHNEZ6Z",
        "pycharm": {
          "name": "#%% md\n"
        }
      },
      "source": [
        "### Feature 4: Bug-Fixing Recency\n",
        "$$ϕ_4(r, s) = (r.month − last(r, s).month + 1)^{−1}$$\n",
        "\n",
        "$last(r, s) ∈ br(r, s)$ be the most recent previously fixed bug.\n",
        "\n",
        "If s was last fixed in the same month that r was created, $ϕ_4(r, s)$ is 1. If s was last fixed one month before r was created, $ϕ_4(r, s)$ is 0.5. If $br(r,s) \\in \\varnothing$, $ϕ_4(r, s)$ is 0"
      ]
    },
    {
      "cell_type": "code",
      "execution_count": null,
      "metadata": {
        "id": "w5qTALId7TdJ",
        "pycharm": {
          "name": "#%%\n"
        }
      },
      "outputs": [],
      "source": [
        "# Feature 4\n",
        "#extract month\n",
        "def get_timestamp(bug_id,bug_df=bug_rp_df):\n",
        "    return pd.to_datetime(bug_df['report_time'])[bug_id]\n",
        "\n",
        "def compute_feature_4(bug_index, src_index, bbr_df):\n",
        "    if bbr_df.empty:\n",
        "        return 0\n",
        "    last_time = get_timestamp(bbr_df['report_timestamp'].idxmax(), bug_df=bbr_df)\n",
        "    bug_time = get_timestamp(bug_index)\n",
        "    return (int((bug_time-last_time)/np.timedelta64(1, 'M')) + 1)**-1"
      ]
    },
    {
      "cell_type": "code",
      "execution_count": null,
      "metadata": {
        "id": "yIk-Z2mlm8vC",
        "pycharm": {
          "name": "#%%\n"
        }
      },
      "outputs": [],
      "source": [
        "x = 175\n",
        "y = 5419\n",
        "bbr = get_before_bug_df(x,y)\n",
        "print(bug_rp_df.loc[x])\n",
        "bbr\n",
        "compute_feature_4(x,y,bbr)"
      ]
    },
    {
      "cell_type": "markdown",
      "metadata": {
        "id": "7maCm4p1Ehbr",
        "pycharm": {
          "name": "#%% md\n"
        }
      },
      "source": [
        "### Feature 5: Bug-Fixing Frequency\n",
        "$$ϕ6(r, s) = |br(r, s)|$$"
      ]
    },
    {
      "cell_type": "code",
      "execution_count": null,
      "metadata": {
        "id": "A3pVbxWV4cO2",
        "pycharm": {
          "name": "#%%\n"
        }
      },
      "outputs": [],
      "source": [
        "def get_before_bug_df(bug_index, src_index, df = bug_rp_df, \n",
        "                      all_src_path = all_src_path):\n",
        "    \"\"\"Get before bug content\n",
        "    input:  bug_index taken from bug report dataframe, \n",
        "            src path is relative path\"\"\"\n",
        "    report_time = bug_rp_df['report_timestamp'].loc[bug_index]\n",
        "    src_path = to_relative_path(all_src_path[src_index]) # relative path\n",
        "    return df.loc[(df.files.str.contains(src_path)) & \n",
        "           (df.index != bug_index) & \n",
        "           (df['report_timestamp'] < report_time)]\n",
        "\n",
        "# def compute_features(bug_indexes, src_indexes, bug_df = bug_rp_df):\n",
        "#     assert len(bug_indexes) == len(src_indexes)\n",
        "\n",
        "    # feature_2 = np.zeros(len(bug_indexes))\n",
        "    # feature_3 = np.zeros(len(bug_indexes))\n",
        "    # feature_4 = np.zeros(len(bug_indexes))\n",
        "    # feature_5 = np.zeros(len(bug_indexes))\n",
        "    # for i,(x,y) in enumerate(zip(bug_indexes, src_indexes)):\n",
        "def compute_features(x,y, bug_content):\n",
        "    bbr_df = get_before_bug_df(x,y)\n",
        "    print(x,y)\n",
        "    try:\n",
        "        feature_2 =  compute_feature_2(x, y, bug_content, bbr_df)\n",
        "\n",
        "        feature_3 = compute_feature_3(x, y, bug_content)\n",
        "        \n",
        "        feature_4 = compute_feature_4(x, y, bbr_df)\n",
        "\n",
        "        feature_5 = len(bbr_df)\n",
        "    except Exception as e:\n",
        "        print(f\"Error on bug_id {x}, source_id {y}\")\n",
        "        print(e)\n",
        "        traceback.print_exc()\n",
        "\n",
        "    return feature_2, feature_3, feature_4, feature_5\n",
        "    # return feature_3, feature_4, feature_5"
      ]
    },
    {
      "cell_type": "markdown",
      "metadata": {
        "id": "Q4q6clBan4zo",
        "pycharm": {
          "name": "#%% md\n"
        }
      },
      "source": [
        "## Create feature set\n",
        "- Each bug take all contaminated src and mark them label 1\n",
        "- Concat those with another 300 bug-free src with lowest tf-idf score"
      ]
    },
    {
      "cell_type": "code",
      "execution_count": null,
      "metadata": {
        "id": "zNN_Vt8Hn3Kj",
        "pycharm": {
          "name": "#%%\n"
        }
      },
      "outputs": [],
      "source": [
        "def create_feature_set(bug_df = bug_rp_df, all_src_path = all_src_path, \n",
        "                       feature_1 = feature_1, src_dir = src_dir):\n",
        "\n",
        "    assert len(bug_rp_df) == feature_1.shape[0]\n",
        "    assert len(all_src_path) == feature_1.shape[1]\n",
        "\n",
        "bug_df = bug_rp_df\n",
        "feature_df = pd.DataFrame(columns=['bug','src','feature_1','label'])\n",
        "                                # 'feature_3','feature_4','feature_5'])\n",
        "# bug_src_indexes = []\n",
        "\n",
        "for i in tqdm(range(len(bug_df))):\n",
        "    contaminated_src = bug_df['files'].loc[i].split() #relative path\n",
        "    contaminated_index = [all_src_path.index(to_full_path(f)) for f in contaminated_src]\n",
        "\n",
        "    not_contaminated_index = [k for k in range(len(all_src_path)) \\\n",
        "                                if k not in contaminated_index]\n",
        "    negative_300 = sorted(not_contaminated_index, key=lambda y:feature_1[i][y])[:300]\n",
        "    new_src_index = contaminated_index + negative_300\n",
        "    labels = [1]*len(contaminated_index) + [0]*len(negative_300)\n",
        "\n",
        "    # bug_src_indexes.extend([(i,s) for s in new_src_index])\n",
        "    # bug_indexes, src_indexes = list(zip(*bug_src_indexes))\n",
        "    feature_df = feature_df.append(pd.DataFrame({'bug': [i]*len(new_src_index),\n",
        "                        'src': new_src_index,\n",
        "                        'feature_1': [feature_1[i][y] for y in new_src_index],\n",
        "                        'label': labels,\n",
        "                        }),ignore_index=True)\n",
        "feature_df.head()\n",
        "\n",
        "    # feature_2, feature_3, feature_4, feature_5 = compute_features(bug_indexes, src_indexes)\n",
        "                        # 'feature_2': feature_2,\n",
        "                        # 'feature_3': feature_3,\n",
        "                        # 'feature_4': feature_4,\n",
        "                        # 'feature_5': feature_5,\n",
        "    # return feature_df"
      ]
    },
    {
      "cell_type": "code",
      "execution_count": null,
      "metadata": {
        "id": "vLfOntBPgpeQ",
        "pycharm": {
          "name": "#%%\n"
        }
      },
      "outputs": [],
      "source": [
        "bug_content = get_content_bug_rp(bug_df)\n",
        "feature_2345_df = feature_df.apply(lambda x: compute_features(x.bug,  x.src,  bug_content),\n",
        "                                                                axis = 1, result_type='expand', )"
      ]
    },
    {
      "cell_type": "code",
      "source": [
        "# without_2_df = pd.concat([feature_2345_df.rename(columns={0:'feature_3',1:'feature_4',2:'feature_5'}),feature_df],axis=1)\n",
        "# without_2_df"
      ],
      "metadata": {
        "id": "yyhcN81WeclX",
        "pycharm": {
          "name": "#%%\n"
        }
      },
      "execution_count": null,
      "outputs": []
    },
    {
      "cell_type": "code",
      "source": [
        "without_2_df.to_csv(\"without_2.csv\")"
      ],
      "metadata": {
        "id": "rDaE5SzthhJj",
        "pycharm": {
          "name": "#%%\n"
        }
      },
      "execution_count": null,
      "outputs": []
    },
    {
      "cell_type": "code",
      "execution_count": null,
      "metadata": {
        "id": "XwOCdZBURrvR",
        "pycharm": {
          "name": "#%%\n"
        }
      },
      "outputs": [],
      "source": [
        "has_2 = without_2_df.apply(lambda x: compute_feature_2(x.bug,  x.src,  bug_content),\n",
        "                                                                axis = 1, result_type='expand', )"
      ]
    }
  ],
  "metadata": {
    "colab": {
      "collapsed_sections": [],
      "name": "BL Feature engineering.ipynb",
      "provenance": [],
      "toc_visible": true,
      "include_colab_link": true
    },
    "kernelspec": {
      "display_name": "Python 3",
      "name": "python3"
    },
    "language_info": {
      "name": "python"
    },
    "accelerator": "GPU",
    "widgets": {
      "application/vnd.jupyter.widget-state+json": {
        "c1f12337e18d4fc3bff7c1e5d86699a6": {
          "model_module": "@jupyter-widgets/controls",
          "model_name": "HBoxModel",
          "model_module_version": "1.5.0",
          "state": {
            "_dom_classes": [],
            "_model_module": "@jupyter-widgets/controls",
            "_model_module_version": "1.5.0",
            "_model_name": "HBoxModel",
            "_view_count": null,
            "_view_module": "@jupyter-widgets/controls",
            "_view_module_version": "1.5.0",
            "_view_name": "HBoxView",
            "box_style": "",
            "children": [
              "IPY_MODEL_e376cebf510e466ea05a7e89a3a41f94",
              "IPY_MODEL_9c97f6067c82460b92a20dd5b3a49eb7",
              "IPY_MODEL_98dba68092234e1f9b7ea0fa1c08f000"
            ],
            "layout": "IPY_MODEL_195559608b2d4a92bc48f1fd8c48b6b4"
          }
        },
        "e376cebf510e466ea05a7e89a3a41f94": {
          "model_module": "@jupyter-widgets/controls",
          "model_name": "HTMLModel",
          "model_module_version": "1.5.0",
          "state": {
            "_dom_classes": [],
            "_model_module": "@jupyter-widgets/controls",
            "_model_module_version": "1.5.0",
            "_model_name": "HTMLModel",
            "_view_count": null,
            "_view_module": "@jupyter-widgets/controls",
            "_view_module_version": "1.5.0",
            "_view_name": "HTMLView",
            "description": "",
            "description_tooltip": null,
            "layout": "IPY_MODEL_3dc1ca89bc8a4d209e14d1cd940ce2f0",
            "placeholder": "​",
            "style": "IPY_MODEL_459d510d5dd64e5683bd642da1c54606",
            "value": "Pandas Apply: 100%"
          }
        },
        "9c97f6067c82460b92a20dd5b3a49eb7": {
          "model_module": "@jupyter-widgets/controls",
          "model_name": "FloatProgressModel",
          "model_module_version": "1.5.0",
          "state": {
            "_dom_classes": [],
            "_model_module": "@jupyter-widgets/controls",
            "_model_module_version": "1.5.0",
            "_model_name": "FloatProgressModel",
            "_view_count": null,
            "_view_module": "@jupyter-widgets/controls",
            "_view_module_version": "1.5.0",
            "_view_name": "ProgressView",
            "bar_style": "success",
            "description": "",
            "description_tooltip": null,
            "layout": "IPY_MODEL_c8f9604dfc2d42dea590a26bbba0c835",
            "max": 9383,
            "min": 0,
            "orientation": "horizontal",
            "style": "IPY_MODEL_f9fe60ac3c984e9e8f0bac1990f71906",
            "value": 9383
          }
        },
        "98dba68092234e1f9b7ea0fa1c08f000": {
          "model_module": "@jupyter-widgets/controls",
          "model_name": "HTMLModel",
          "model_module_version": "1.5.0",
          "state": {
            "_dom_classes": [],
            "_model_module": "@jupyter-widgets/controls",
            "_model_module_version": "1.5.0",
            "_model_name": "HTMLModel",
            "_view_count": null,
            "_view_module": "@jupyter-widgets/controls",
            "_view_module_version": "1.5.0",
            "_view_name": "HTMLView",
            "description": "",
            "description_tooltip": null,
            "layout": "IPY_MODEL_a00a678f4b9d461cae6a308c2b64e019",
            "placeholder": "​",
            "style": "IPY_MODEL_f672f6e57319424b9102a3106cf36581",
            "value": " 9383/9383 [00:00&lt;00:00, 27042.14it/s]"
          }
        },
        "195559608b2d4a92bc48f1fd8c48b6b4": {
          "model_module": "@jupyter-widgets/base",
          "model_name": "LayoutModel",
          "model_module_version": "1.2.0",
          "state": {
            "_model_module": "@jupyter-widgets/base",
            "_model_module_version": "1.2.0",
            "_model_name": "LayoutModel",
            "_view_count": null,
            "_view_module": "@jupyter-widgets/base",
            "_view_module_version": "1.2.0",
            "_view_name": "LayoutView",
            "align_content": null,
            "align_items": null,
            "align_self": null,
            "border": null,
            "bottom": null,
            "display": null,
            "flex": null,
            "flex_flow": null,
            "grid_area": null,
            "grid_auto_columns": null,
            "grid_auto_flow": null,
            "grid_auto_rows": null,
            "grid_column": null,
            "grid_gap": null,
            "grid_row": null,
            "grid_template_areas": null,
            "grid_template_columns": null,
            "grid_template_rows": null,
            "height": null,
            "justify_content": null,
            "justify_items": null,
            "left": null,
            "margin": null,
            "max_height": null,
            "max_width": null,
            "min_height": null,
            "min_width": null,
            "object_fit": null,
            "object_position": null,
            "order": null,
            "overflow": null,
            "overflow_x": null,
            "overflow_y": null,
            "padding": null,
            "right": null,
            "top": null,
            "visibility": null,
            "width": null
          }
        },
        "3dc1ca89bc8a4d209e14d1cd940ce2f0": {
          "model_module": "@jupyter-widgets/base",
          "model_name": "LayoutModel",
          "model_module_version": "1.2.0",
          "state": {
            "_model_module": "@jupyter-widgets/base",
            "_model_module_version": "1.2.0",
            "_model_name": "LayoutModel",
            "_view_count": null,
            "_view_module": "@jupyter-widgets/base",
            "_view_module_version": "1.2.0",
            "_view_name": "LayoutView",
            "align_content": null,
            "align_items": null,
            "align_self": null,
            "border": null,
            "bottom": null,
            "display": null,
            "flex": null,
            "flex_flow": null,
            "grid_area": null,
            "grid_auto_columns": null,
            "grid_auto_flow": null,
            "grid_auto_rows": null,
            "grid_column": null,
            "grid_gap": null,
            "grid_row": null,
            "grid_template_areas": null,
            "grid_template_columns": null,
            "grid_template_rows": null,
            "height": null,
            "justify_content": null,
            "justify_items": null,
            "left": null,
            "margin": null,
            "max_height": null,
            "max_width": null,
            "min_height": null,
            "min_width": null,
            "object_fit": null,
            "object_position": null,
            "order": null,
            "overflow": null,
            "overflow_x": null,
            "overflow_y": null,
            "padding": null,
            "right": null,
            "top": null,
            "visibility": null,
            "width": null
          }
        },
        "459d510d5dd64e5683bd642da1c54606": {
          "model_module": "@jupyter-widgets/controls",
          "model_name": "DescriptionStyleModel",
          "model_module_version": "1.5.0",
          "state": {
            "_model_module": "@jupyter-widgets/controls",
            "_model_module_version": "1.5.0",
            "_model_name": "DescriptionStyleModel",
            "_view_count": null,
            "_view_module": "@jupyter-widgets/base",
            "_view_module_version": "1.2.0",
            "_view_name": "StyleView",
            "description_width": ""
          }
        },
        "c8f9604dfc2d42dea590a26bbba0c835": {
          "model_module": "@jupyter-widgets/base",
          "model_name": "LayoutModel",
          "model_module_version": "1.2.0",
          "state": {
            "_model_module": "@jupyter-widgets/base",
            "_model_module_version": "1.2.0",
            "_model_name": "LayoutModel",
            "_view_count": null,
            "_view_module": "@jupyter-widgets/base",
            "_view_module_version": "1.2.0",
            "_view_name": "LayoutView",
            "align_content": null,
            "align_items": null,
            "align_self": null,
            "border": null,
            "bottom": null,
            "display": null,
            "flex": null,
            "flex_flow": null,
            "grid_area": null,
            "grid_auto_columns": null,
            "grid_auto_flow": null,
            "grid_auto_rows": null,
            "grid_column": null,
            "grid_gap": null,
            "grid_row": null,
            "grid_template_areas": null,
            "grid_template_columns": null,
            "grid_template_rows": null,
            "height": null,
            "justify_content": null,
            "justify_items": null,
            "left": null,
            "margin": null,
            "max_height": null,
            "max_width": null,
            "min_height": null,
            "min_width": null,
            "object_fit": null,
            "object_position": null,
            "order": null,
            "overflow": null,
            "overflow_x": null,
            "overflow_y": null,
            "padding": null,
            "right": null,
            "top": null,
            "visibility": null,
            "width": null
          }
        },
        "f9fe60ac3c984e9e8f0bac1990f71906": {
          "model_module": "@jupyter-widgets/controls",
          "model_name": "ProgressStyleModel",
          "model_module_version": "1.5.0",
          "state": {
            "_model_module": "@jupyter-widgets/controls",
            "_model_module_version": "1.5.0",
            "_model_name": "ProgressStyleModel",
            "_view_count": null,
            "_view_module": "@jupyter-widgets/base",
            "_view_module_version": "1.2.0",
            "_view_name": "StyleView",
            "bar_color": null,
            "description_width": ""
          }
        },
        "a00a678f4b9d461cae6a308c2b64e019": {
          "model_module": "@jupyter-widgets/base",
          "model_name": "LayoutModel",
          "model_module_version": "1.2.0",
          "state": {
            "_model_module": "@jupyter-widgets/base",
            "_model_module_version": "1.2.0",
            "_model_name": "LayoutModel",
            "_view_count": null,
            "_view_module": "@jupyter-widgets/base",
            "_view_module_version": "1.2.0",
            "_view_name": "LayoutView",
            "align_content": null,
            "align_items": null,
            "align_self": null,
            "border": null,
            "bottom": null,
            "display": null,
            "flex": null,
            "flex_flow": null,
            "grid_area": null,
            "grid_auto_columns": null,
            "grid_auto_flow": null,
            "grid_auto_rows": null,
            "grid_column": null,
            "grid_gap": null,
            "grid_row": null,
            "grid_template_areas": null,
            "grid_template_columns": null,
            "grid_template_rows": null,
            "height": null,
            "justify_content": null,
            "justify_items": null,
            "left": null,
            "margin": null,
            "max_height": null,
            "max_width": null,
            "min_height": null,
            "min_width": null,
            "object_fit": null,
            "object_position": null,
            "order": null,
            "overflow": null,
            "overflow_x": null,
            "overflow_y": null,
            "padding": null,
            "right": null,
            "top": null,
            "visibility": null,
            "width": null
          }
        },
        "f672f6e57319424b9102a3106cf36581": {
          "model_module": "@jupyter-widgets/controls",
          "model_name": "DescriptionStyleModel",
          "model_module_version": "1.5.0",
          "state": {
            "_model_module": "@jupyter-widgets/controls",
            "_model_module_version": "1.5.0",
            "_model_name": "DescriptionStyleModel",
            "_view_count": null,
            "_view_module": "@jupyter-widgets/base",
            "_view_module_version": "1.2.0",
            "_view_name": "StyleView",
            "description_width": ""
          }
        },
        "aeed3d609a5a4ad6ae939d579d39fb56": {
          "model_module": "@jupyter-widgets/controls",
          "model_name": "HBoxModel",
          "model_module_version": "1.5.0",
          "state": {
            "_dom_classes": [],
            "_model_module": "@jupyter-widgets/controls",
            "_model_module_version": "1.5.0",
            "_model_name": "HBoxModel",
            "_view_count": null,
            "_view_module": "@jupyter-widgets/controls",
            "_view_module_version": "1.5.0",
            "_view_name": "HBoxView",
            "box_style": "",
            "children": [
              "IPY_MODEL_319ae39060004d26a52be35cfe29e8f6",
              "IPY_MODEL_477d829661c840d382a8424029119280",
              "IPY_MODEL_a9e001de6336417b8f3607cfbe1f4dff"
            ],
            "layout": "IPY_MODEL_107aa7308faf4fb8971a7af62bfd72bb"
          }
        },
        "319ae39060004d26a52be35cfe29e8f6": {
          "model_module": "@jupyter-widgets/controls",
          "model_name": "HTMLModel",
          "model_module_version": "1.5.0",
          "state": {
            "_dom_classes": [],
            "_model_module": "@jupyter-widgets/controls",
            "_model_module_version": "1.5.0",
            "_model_name": "HTMLModel",
            "_view_count": null,
            "_view_module": "@jupyter-widgets/controls",
            "_view_module_version": "1.5.0",
            "_view_name": "HTMLView",
            "description": "",
            "description_tooltip": null,
            "layout": "IPY_MODEL_8aba0cf1bf3d4fe2921ea2d55046974c",
            "placeholder": "​",
            "style": "IPY_MODEL_1f583ce265a34fd2856508bebd66d8a5",
            "value": "Pandas Apply: 100%"
          }
        },
        "477d829661c840d382a8424029119280": {
          "model_module": "@jupyter-widgets/controls",
          "model_name": "FloatProgressModel",
          "model_module_version": "1.5.0",
          "state": {
            "_dom_classes": [],
            "_model_module": "@jupyter-widgets/controls",
            "_model_module_version": "1.5.0",
            "_model_name": "FloatProgressModel",
            "_view_count": null,
            "_view_module": "@jupyter-widgets/controls",
            "_view_module_version": "1.5.0",
            "_view_name": "ProgressView",
            "bar_style": "success",
            "description": "",
            "description_tooltip": null,
            "layout": "IPY_MODEL_205179b7a0494b318b9e12e3fefd5296",
            "max": 9383,
            "min": 0,
            "orientation": "horizontal",
            "style": "IPY_MODEL_cb38e6a6693f4865b8db700a6b3b2849",
            "value": 9383
          }
        },
        "a9e001de6336417b8f3607cfbe1f4dff": {
          "model_module": "@jupyter-widgets/controls",
          "model_name": "HTMLModel",
          "model_module_version": "1.5.0",
          "state": {
            "_dom_classes": [],
            "_model_module": "@jupyter-widgets/controls",
            "_model_module_version": "1.5.0",
            "_model_name": "HTMLModel",
            "_view_count": null,
            "_view_module": "@jupyter-widgets/controls",
            "_view_module_version": "1.5.0",
            "_view_name": "HTMLView",
            "description": "",
            "description_tooltip": null,
            "layout": "IPY_MODEL_4591bf464f1f41b8b728eea0eaaa96b5",
            "placeholder": "​",
            "style": "IPY_MODEL_5bce31c552b1493c8ecdf63556a180b7",
            "value": " 9383/9383 [04:49&lt;00:00, 16.23it/s]"
          }
        },
        "107aa7308faf4fb8971a7af62bfd72bb": {
          "model_module": "@jupyter-widgets/base",
          "model_name": "LayoutModel",
          "model_module_version": "1.2.0",
          "state": {
            "_model_module": "@jupyter-widgets/base",
            "_model_module_version": "1.2.0",
            "_model_name": "LayoutModel",
            "_view_count": null,
            "_view_module": "@jupyter-widgets/base",
            "_view_module_version": "1.2.0",
            "_view_name": "LayoutView",
            "align_content": null,
            "align_items": null,
            "align_self": null,
            "border": null,
            "bottom": null,
            "display": null,
            "flex": null,
            "flex_flow": null,
            "grid_area": null,
            "grid_auto_columns": null,
            "grid_auto_flow": null,
            "grid_auto_rows": null,
            "grid_column": null,
            "grid_gap": null,
            "grid_row": null,
            "grid_template_areas": null,
            "grid_template_columns": null,
            "grid_template_rows": null,
            "height": null,
            "justify_content": null,
            "justify_items": null,
            "left": null,
            "margin": null,
            "max_height": null,
            "max_width": null,
            "min_height": null,
            "min_width": null,
            "object_fit": null,
            "object_position": null,
            "order": null,
            "overflow": null,
            "overflow_x": null,
            "overflow_y": null,
            "padding": null,
            "right": null,
            "top": null,
            "visibility": null,
            "width": null
          }
        },
        "8aba0cf1bf3d4fe2921ea2d55046974c": {
          "model_module": "@jupyter-widgets/base",
          "model_name": "LayoutModel",
          "model_module_version": "1.2.0",
          "state": {
            "_model_module": "@jupyter-widgets/base",
            "_model_module_version": "1.2.0",
            "_model_name": "LayoutModel",
            "_view_count": null,
            "_view_module": "@jupyter-widgets/base",
            "_view_module_version": "1.2.0",
            "_view_name": "LayoutView",
            "align_content": null,
            "align_items": null,
            "align_self": null,
            "border": null,
            "bottom": null,
            "display": null,
            "flex": null,
            "flex_flow": null,
            "grid_area": null,
            "grid_auto_columns": null,
            "grid_auto_flow": null,
            "grid_auto_rows": null,
            "grid_column": null,
            "grid_gap": null,
            "grid_row": null,
            "grid_template_areas": null,
            "grid_template_columns": null,
            "grid_template_rows": null,
            "height": null,
            "justify_content": null,
            "justify_items": null,
            "left": null,
            "margin": null,
            "max_height": null,
            "max_width": null,
            "min_height": null,
            "min_width": null,
            "object_fit": null,
            "object_position": null,
            "order": null,
            "overflow": null,
            "overflow_x": null,
            "overflow_y": null,
            "padding": null,
            "right": null,
            "top": null,
            "visibility": null,
            "width": null
          }
        },
        "1f583ce265a34fd2856508bebd66d8a5": {
          "model_module": "@jupyter-widgets/controls",
          "model_name": "DescriptionStyleModel",
          "model_module_version": "1.5.0",
          "state": {
            "_model_module": "@jupyter-widgets/controls",
            "_model_module_version": "1.5.0",
            "_model_name": "DescriptionStyleModel",
            "_view_count": null,
            "_view_module": "@jupyter-widgets/base",
            "_view_module_version": "1.2.0",
            "_view_name": "StyleView",
            "description_width": ""
          }
        },
        "205179b7a0494b318b9e12e3fefd5296": {
          "model_module": "@jupyter-widgets/base",
          "model_name": "LayoutModel",
          "model_module_version": "1.2.0",
          "state": {
            "_model_module": "@jupyter-widgets/base",
            "_model_module_version": "1.2.0",
            "_model_name": "LayoutModel",
            "_view_count": null,
            "_view_module": "@jupyter-widgets/base",
            "_view_module_version": "1.2.0",
            "_view_name": "LayoutView",
            "align_content": null,
            "align_items": null,
            "align_self": null,
            "border": null,
            "bottom": null,
            "display": null,
            "flex": null,
            "flex_flow": null,
            "grid_area": null,
            "grid_auto_columns": null,
            "grid_auto_flow": null,
            "grid_auto_rows": null,
            "grid_column": null,
            "grid_gap": null,
            "grid_row": null,
            "grid_template_areas": null,
            "grid_template_columns": null,
            "grid_template_rows": null,
            "height": null,
            "justify_content": null,
            "justify_items": null,
            "left": null,
            "margin": null,
            "max_height": null,
            "max_width": null,
            "min_height": null,
            "min_width": null,
            "object_fit": null,
            "object_position": null,
            "order": null,
            "overflow": null,
            "overflow_x": null,
            "overflow_y": null,
            "padding": null,
            "right": null,
            "top": null,
            "visibility": null,
            "width": null
          }
        },
        "cb38e6a6693f4865b8db700a6b3b2849": {
          "model_module": "@jupyter-widgets/controls",
          "model_name": "ProgressStyleModel",
          "model_module_version": "1.5.0",
          "state": {
            "_model_module": "@jupyter-widgets/controls",
            "_model_module_version": "1.5.0",
            "_model_name": "ProgressStyleModel",
            "_view_count": null,
            "_view_module": "@jupyter-widgets/base",
            "_view_module_version": "1.2.0",
            "_view_name": "StyleView",
            "bar_color": null,
            "description_width": ""
          }
        },
        "4591bf464f1f41b8b728eea0eaaa96b5": {
          "model_module": "@jupyter-widgets/base",
          "model_name": "LayoutModel",
          "model_module_version": "1.2.0",
          "state": {
            "_model_module": "@jupyter-widgets/base",
            "_model_module_version": "1.2.0",
            "_model_name": "LayoutModel",
            "_view_count": null,
            "_view_module": "@jupyter-widgets/base",
            "_view_module_version": "1.2.0",
            "_view_name": "LayoutView",
            "align_content": null,
            "align_items": null,
            "align_self": null,
            "border": null,
            "bottom": null,
            "display": null,
            "flex": null,
            "flex_flow": null,
            "grid_area": null,
            "grid_auto_columns": null,
            "grid_auto_flow": null,
            "grid_auto_rows": null,
            "grid_column": null,
            "grid_gap": null,
            "grid_row": null,
            "grid_template_areas": null,
            "grid_template_columns": null,
            "grid_template_rows": null,
            "height": null,
            "justify_content": null,
            "justify_items": null,
            "left": null,
            "margin": null,
            "max_height": null,
            "max_width": null,
            "min_height": null,
            "min_width": null,
            "object_fit": null,
            "object_position": null,
            "order": null,
            "overflow": null,
            "overflow_x": null,
            "overflow_y": null,
            "padding": null,
            "right": null,
            "top": null,
            "visibility": null,
            "width": null
          }
        },
        "5bce31c552b1493c8ecdf63556a180b7": {
          "model_module": "@jupyter-widgets/controls",
          "model_name": "DescriptionStyleModel",
          "model_module_version": "1.5.0",
          "state": {
            "_model_module": "@jupyter-widgets/controls",
            "_model_module_version": "1.5.0",
            "_model_name": "DescriptionStyleModel",
            "_view_count": null,
            "_view_module": "@jupyter-widgets/base",
            "_view_module_version": "1.2.0",
            "_view_name": "StyleView",
            "description_width": ""
          }
        }
      }
    }
  },
  "nbformat": 4,
  "nbformat_minor": 0
}